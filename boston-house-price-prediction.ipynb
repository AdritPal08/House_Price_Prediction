{
 "cells": [
  {
   "cell_type": "markdown",
   "id": "2fe371b8",
   "metadata": {
    "papermill": {
     "duration": 0.015259,
     "end_time": "2022-11-22T21:16:31.217260",
     "exception": false,
     "start_time": "2022-11-22T21:16:31.202001",
     "status": "completed"
    },
    "tags": []
   },
   "source": [
    "# **Importing all libraries**"
   ]
  },
  {
   "cell_type": "code",
   "execution_count": 1,
   "id": "a81f77a3",
   "metadata": {
    "_cell_guid": "b1076dfc-b9ad-4769-8c92-a6c4dae69d19",
    "_uuid": "8f2839f25d086af736a60e9eeb907d3b93b6e0e5",
    "execution": {
     "iopub.execute_input": "2022-11-22T21:16:31.249965Z",
     "iopub.status.busy": "2022-11-22T21:16:31.249130Z",
     "iopub.status.idle": "2022-11-22T21:16:33.160401Z",
     "shell.execute_reply": "2022-11-22T21:16:33.159334Z"
    },
    "papermill": {
     "duration": 1.931185,
     "end_time": "2022-11-22T21:16:33.163308",
     "exception": false,
     "start_time": "2022-11-22T21:16:31.232123",
     "status": "completed"
    },
    "tags": []
   },
   "outputs": [],
   "source": [
    "import pandas as pd\n",
    "import seaborn as sns\n",
    "import numpy as np\n",
    "import matplotlib.pyplot as plt\n",
    "%matplotlib inline\n",
    "import warnings\n",
    "warnings.filterwarnings('ignore')\n",
    "import os\n",
    "from sklearn.impute import SimpleImputer\n",
    "from sklearn.model_selection import StratifiedShuffleSplit\n",
    "# from sklearn.preprocessing import StandardScaler\n",
    "from sklearn.preprocessing import PowerTransformer, RobustScaler, QuantileTransformer,StandardScaler\n",
    "from sklearn.metrics import mean_squared_error\n",
    "from sklearn.model_selection import cross_val_score,cross_val_predict\n",
    "from sklearn.model_selection import train_test_split, KFold, cross_val_predict,GridSearchCV,RandomizedSearchCV\n",
    "from sklearn.metrics import r2_score\n",
    "from sklearn.linear_model import LinearRegression\n",
    "from sklearn.linear_model import Lasso\n",
    "from sklearn.linear_model import ElasticNet\n",
    "from sklearn.svm import SVR\n",
    "from sklearn.tree import DecisionTreeRegressor\n",
    "from sklearn.ensemble import RandomForestRegressor\n",
    "from sklearn.ensemble import ExtraTreesRegressor\n",
    "from sklearn.ensemble import AdaBoostRegressor\n",
    "from sklearn.neighbors import KNeighborsRegressor\n",
    "from sklearn.ensemble import GradientBoostingRegressor\n",
    "from xgboost import XGBRegressor\n",
    "from catboost import CatBoostRegressor\n",
    "from sklearn.pipeline import Pipeline"
   ]
  },
  {
   "cell_type": "markdown",
   "id": "92d51472",
   "metadata": {
    "papermill": {
     "duration": 0.014126,
     "end_time": "2022-11-22T21:16:33.191384",
     "exception": false,
     "start_time": "2022-11-22T21:16:33.177258",
     "status": "completed"
    },
    "tags": []
   },
   "source": [
    "# **Load the Dataset**"
   ]
  },
  {
   "cell_type": "code",
   "execution_count": 2,
   "id": "fc99f1a7",
   "metadata": {
    "execution": {
     "iopub.execute_input": "2022-11-22T21:16:33.221925Z",
     "iopub.status.busy": "2022-11-22T21:16:33.220731Z",
     "iopub.status.idle": "2022-11-22T21:16:33.281295Z",
     "shell.execute_reply": "2022-11-22T21:16:33.279337Z"
    },
    "papermill": {
     "duration": 0.080162,
     "end_time": "2022-11-22T21:16:33.285399",
     "exception": false,
     "start_time": "2022-11-22T21:16:33.205237",
     "status": "completed"
    },
    "tags": []
   },
   "outputs": [
    {
     "data": {
      "text/html": [
       "<div>\n",
       "<style scoped>\n",
       "    .dataframe tbody tr th:only-of-type {\n",
       "        vertical-align: middle;\n",
       "    }\n",
       "\n",
       "    .dataframe tbody tr th {\n",
       "        vertical-align: top;\n",
       "    }\n",
       "\n",
       "    .dataframe thead th {\n",
       "        text-align: right;\n",
       "    }\n",
       "</style>\n",
       "<table border=\"1\" class=\"dataframe\">\n",
       "  <thead>\n",
       "    <tr style=\"text-align: right;\">\n",
       "      <th></th>\n",
       "      <th>CRIM</th>\n",
       "      <th>ZN</th>\n",
       "      <th>INDUS</th>\n",
       "      <th>CHAS</th>\n",
       "      <th>NOX</th>\n",
       "      <th>RM</th>\n",
       "      <th>AGE</th>\n",
       "      <th>DIS</th>\n",
       "      <th>RAD</th>\n",
       "      <th>TAX</th>\n",
       "      <th>PTRATIO</th>\n",
       "      <th>B</th>\n",
       "      <th>LSTAT</th>\n",
       "      <th>MEDV</th>\n",
       "    </tr>\n",
       "  </thead>\n",
       "  <tbody>\n",
       "    <tr>\n",
       "      <th>0</th>\n",
       "      <td>0.00632</td>\n",
       "      <td>18.0</td>\n",
       "      <td>2.31</td>\n",
       "      <td>0</td>\n",
       "      <td>0.538</td>\n",
       "      <td>6.575</td>\n",
       "      <td>65.2</td>\n",
       "      <td>4.0900</td>\n",
       "      <td>1</td>\n",
       "      <td>296.0</td>\n",
       "      <td>15.3</td>\n",
       "      <td>396.90</td>\n",
       "      <td>4.98</td>\n",
       "      <td>24.0</td>\n",
       "    </tr>\n",
       "    <tr>\n",
       "      <th>1</th>\n",
       "      <td>0.02731</td>\n",
       "      <td>0.0</td>\n",
       "      <td>7.07</td>\n",
       "      <td>0</td>\n",
       "      <td>0.469</td>\n",
       "      <td>6.421</td>\n",
       "      <td>78.9</td>\n",
       "      <td>4.9671</td>\n",
       "      <td>2</td>\n",
       "      <td>242.0</td>\n",
       "      <td>17.8</td>\n",
       "      <td>396.90</td>\n",
       "      <td>9.14</td>\n",
       "      <td>21.6</td>\n",
       "    </tr>\n",
       "    <tr>\n",
       "      <th>2</th>\n",
       "      <td>0.02729</td>\n",
       "      <td>0.0</td>\n",
       "      <td>7.07</td>\n",
       "      <td>0</td>\n",
       "      <td>0.469</td>\n",
       "      <td>7.185</td>\n",
       "      <td>61.1</td>\n",
       "      <td>4.9671</td>\n",
       "      <td>2</td>\n",
       "      <td>242.0</td>\n",
       "      <td>17.8</td>\n",
       "      <td>392.83</td>\n",
       "      <td>4.03</td>\n",
       "      <td>34.7</td>\n",
       "    </tr>\n",
       "    <tr>\n",
       "      <th>3</th>\n",
       "      <td>0.03237</td>\n",
       "      <td>0.0</td>\n",
       "      <td>2.18</td>\n",
       "      <td>0</td>\n",
       "      <td>0.458</td>\n",
       "      <td>6.998</td>\n",
       "      <td>45.8</td>\n",
       "      <td>6.0622</td>\n",
       "      <td>3</td>\n",
       "      <td>222.0</td>\n",
       "      <td>18.7</td>\n",
       "      <td>394.63</td>\n",
       "      <td>2.94</td>\n",
       "      <td>33.4</td>\n",
       "    </tr>\n",
       "    <tr>\n",
       "      <th>4</th>\n",
       "      <td>0.06905</td>\n",
       "      <td>0.0</td>\n",
       "      <td>2.18</td>\n",
       "      <td>0</td>\n",
       "      <td>0.458</td>\n",
       "      <td>7.147</td>\n",
       "      <td>54.2</td>\n",
       "      <td>6.0622</td>\n",
       "      <td>3</td>\n",
       "      <td>222.0</td>\n",
       "      <td>18.7</td>\n",
       "      <td>396.90</td>\n",
       "      <td>5.33</td>\n",
       "      <td>36.2</td>\n",
       "    </tr>\n",
       "    <tr>\n",
       "      <th>5</th>\n",
       "      <td>0.02985</td>\n",
       "      <td>0.0</td>\n",
       "      <td>2.18</td>\n",
       "      <td>0</td>\n",
       "      <td>0.458</td>\n",
       "      <td>6.430</td>\n",
       "      <td>58.7</td>\n",
       "      <td>6.0622</td>\n",
       "      <td>3</td>\n",
       "      <td>222.0</td>\n",
       "      <td>18.7</td>\n",
       "      <td>394.12</td>\n",
       "      <td>5.21</td>\n",
       "      <td>28.7</td>\n",
       "    </tr>\n",
       "    <tr>\n",
       "      <th>6</th>\n",
       "      <td>0.08829</td>\n",
       "      <td>12.5</td>\n",
       "      <td>7.87</td>\n",
       "      <td>0</td>\n",
       "      <td>0.524</td>\n",
       "      <td>6.012</td>\n",
       "      <td>66.6</td>\n",
       "      <td>5.5605</td>\n",
       "      <td>5</td>\n",
       "      <td>311.0</td>\n",
       "      <td>15.2</td>\n",
       "      <td>395.60</td>\n",
       "      <td>12.43</td>\n",
       "      <td>22.9</td>\n",
       "    </tr>\n",
       "    <tr>\n",
       "      <th>7</th>\n",
       "      <td>0.14455</td>\n",
       "      <td>12.5</td>\n",
       "      <td>7.87</td>\n",
       "      <td>0</td>\n",
       "      <td>0.524</td>\n",
       "      <td>6.172</td>\n",
       "      <td>96.1</td>\n",
       "      <td>5.9505</td>\n",
       "      <td>5</td>\n",
       "      <td>311.0</td>\n",
       "      <td>15.2</td>\n",
       "      <td>396.90</td>\n",
       "      <td>19.15</td>\n",
       "      <td>27.1</td>\n",
       "    </tr>\n",
       "    <tr>\n",
       "      <th>8</th>\n",
       "      <td>0.21124</td>\n",
       "      <td>12.5</td>\n",
       "      <td>7.87</td>\n",
       "      <td>0</td>\n",
       "      <td>0.524</td>\n",
       "      <td>5.631</td>\n",
       "      <td>100.0</td>\n",
       "      <td>6.0821</td>\n",
       "      <td>5</td>\n",
       "      <td>311.0</td>\n",
       "      <td>15.2</td>\n",
       "      <td>386.63</td>\n",
       "      <td>29.93</td>\n",
       "      <td>16.5</td>\n",
       "    </tr>\n",
       "    <tr>\n",
       "      <th>9</th>\n",
       "      <td>0.17004</td>\n",
       "      <td>12.5</td>\n",
       "      <td>7.87</td>\n",
       "      <td>0</td>\n",
       "      <td>0.524</td>\n",
       "      <td>6.004</td>\n",
       "      <td>85.9</td>\n",
       "      <td>6.5921</td>\n",
       "      <td>5</td>\n",
       "      <td>311.0</td>\n",
       "      <td>15.2</td>\n",
       "      <td>386.71</td>\n",
       "      <td>17.10</td>\n",
       "      <td>18.9</td>\n",
       "    </tr>\n",
       "  </tbody>\n",
       "</table>\n",
       "</div>"
      ],
      "text/plain": [
       "      CRIM    ZN  INDUS  CHAS    NOX     RM    AGE     DIS  RAD    TAX  \\\n",
       "0  0.00632  18.0   2.31     0  0.538  6.575   65.2  4.0900    1  296.0   \n",
       "1  0.02731   0.0   7.07     0  0.469  6.421   78.9  4.9671    2  242.0   \n",
       "2  0.02729   0.0   7.07     0  0.469  7.185   61.1  4.9671    2  242.0   \n",
       "3  0.03237   0.0   2.18     0  0.458  6.998   45.8  6.0622    3  222.0   \n",
       "4  0.06905   0.0   2.18     0  0.458  7.147   54.2  6.0622    3  222.0   \n",
       "5  0.02985   0.0   2.18     0  0.458  6.430   58.7  6.0622    3  222.0   \n",
       "6  0.08829  12.5   7.87     0  0.524  6.012   66.6  5.5605    5  311.0   \n",
       "7  0.14455  12.5   7.87     0  0.524  6.172   96.1  5.9505    5  311.0   \n",
       "8  0.21124  12.5   7.87     0  0.524  5.631  100.0  6.0821    5  311.0   \n",
       "9  0.17004  12.5   7.87     0  0.524  6.004   85.9  6.5921    5  311.0   \n",
       "\n",
       "   PTRATIO       B  LSTAT  MEDV  \n",
       "0     15.3  396.90   4.98  24.0  \n",
       "1     17.8  396.90   9.14  21.6  \n",
       "2     17.8  392.83   4.03  34.7  \n",
       "3     18.7  394.63   2.94  33.4  \n",
       "4     18.7  396.90   5.33  36.2  \n",
       "5     18.7  394.12   5.21  28.7  \n",
       "6     15.2  395.60  12.43  22.9  \n",
       "7     15.2  396.90  19.15  27.1  \n",
       "8     15.2  386.63  29.93  16.5  \n",
       "9     15.2  386.71  17.10  18.9  "
      ]
     },
     "execution_count": 2,
     "metadata": {},
     "output_type": "execute_result"
    }
   ],
   "source": [
    "for dirname, _, filenames in os.walk('/kaggle/input'):\n",
    "    for filename in filenames:\n",
    "        house_data=os.path.join(dirname, filename)\n",
    "#         print(os.path.join(dirname, filename))\n",
    "housing = pd.read_csv(house_data)\n",
    "housing.head(10)\n"
   ]
  },
  {
   "cell_type": "code",
   "execution_count": 3,
   "id": "621bcad1",
   "metadata": {
    "execution": {
     "iopub.execute_input": "2022-11-22T21:16:33.321643Z",
     "iopub.status.busy": "2022-11-22T21:16:33.320309Z",
     "iopub.status.idle": "2022-11-22T21:16:33.346689Z",
     "shell.execute_reply": "2022-11-22T21:16:33.345304Z"
    },
    "papermill": {
     "duration": 0.046651,
     "end_time": "2022-11-22T21:16:33.349874",
     "exception": false,
     "start_time": "2022-11-22T21:16:33.303223",
     "status": "completed"
    },
    "tags": []
   },
   "outputs": [
    {
     "name": "stdout",
     "output_type": "stream",
     "text": [
      "Shape before deleting duplicate values: (506, 14)\n",
      "Shape After deleting duplicate values: (506, 14)\n"
     ]
    }
   ],
   "source": [
    "#check and remove duplicate value\n",
    "print('Shape before deleting duplicate values:', housing.shape)\n",
    "\n",
    "# Removing duplicate rows if any\n",
    "housing=housing.drop_duplicates()\n",
    "print('Shape After deleting duplicate values:', housing.shape)"
   ]
  },
  {
   "cell_type": "markdown",
   "id": "c9af440a",
   "metadata": {
    "papermill": {
     "duration": 0.019369,
     "end_time": "2022-11-22T21:16:33.384466",
     "exception": false,
     "start_time": "2022-11-22T21:16:33.365097",
     "status": "completed"
    },
    "tags": []
   },
   "source": [
    "# **Defining the problem statement:**\n",
    "**Create a ML model which can predict the price( MEDV ) of a house**\n",
    "\n",
    "*Target Variable: MEDV\n",
    "\n",
    "*Predictors: CRIM, ZN, INDUS, CHAS, NOX, RM, etc.\n",
    "# **Determining the type of Machine Learning**\n",
    "Based on the problem statement you can understand that we need to create a **supervised ML Regression model**, as the target variable is Continuous.\n",
    "\n",
    "# **Looking at the distribution of Target variable**\n",
    "*If target variable's distribution is too skewed then the predictive modeling will not be possible.\n",
    "\n",
    "*Bell curve is desirable but slightly positive skew or negative skew is also fine\n",
    "\n",
    "*When performing Regression, make sure the histogram looks like a bell curve or slight skewed version of it. Otherwise it impacts the Machine Learning algorithms ability to learn all the scenarios."
   ]
  },
  {
   "cell_type": "markdown",
   "id": "fb270749",
   "metadata": {
    "papermill": {
     "duration": 0.013652,
     "end_time": "2022-11-22T21:16:33.412958",
     "exception": false,
     "start_time": "2022-11-22T21:16:33.399306",
     "status": "completed"
    },
    "tags": []
   },
   "source": [
    "# **Basic Data Exploration**\n",
    "\n",
    "**There are four commands which are used for Basic data exploration in Python**\n",
    "\n",
    "head() : This helps to see a few sample rows of the data\n",
    "\n",
    "info() : This provides the summarized information of the data\n",
    "\n",
    "describe() : This provides the descriptive statistical details of the data\n",
    "\n",
    "nunique(): This helps us to identify if a column is categorical or continuous"
   ]
  },
  {
   "cell_type": "code",
   "execution_count": 4,
   "id": "573fa070",
   "metadata": {
    "execution": {
     "iopub.execute_input": "2022-11-22T21:16:33.442519Z",
     "iopub.status.busy": "2022-11-22T21:16:33.441733Z",
     "iopub.status.idle": "2022-11-22T21:16:33.459995Z",
     "shell.execute_reply": "2022-11-22T21:16:33.458538Z"
    },
    "papermill": {
     "duration": 0.036068,
     "end_time": "2022-11-22T21:16:33.462607",
     "exception": false,
     "start_time": "2022-11-22T21:16:33.426539",
     "status": "completed"
    },
    "tags": []
   },
   "outputs": [
    {
     "name": "stdout",
     "output_type": "stream",
     "text": [
      "<class 'pandas.core.frame.DataFrame'>\n",
      "Int64Index: 506 entries, 0 to 505\n",
      "Data columns (total 14 columns):\n",
      " #   Column   Non-Null Count  Dtype  \n",
      "---  ------   --------------  -----  \n",
      " 0   CRIM     506 non-null    float64\n",
      " 1   ZN       506 non-null    float64\n",
      " 2   INDUS    506 non-null    float64\n",
      " 3   CHAS     506 non-null    int64  \n",
      " 4   NOX      506 non-null    float64\n",
      " 5   RM       506 non-null    float64\n",
      " 6   AGE      506 non-null    float64\n",
      " 7   DIS      506 non-null    float64\n",
      " 8   RAD      506 non-null    int64  \n",
      " 9   TAX      506 non-null    float64\n",
      " 10  PTRATIO  506 non-null    float64\n",
      " 11  B        506 non-null    float64\n",
      " 12  LSTAT    506 non-null    float64\n",
      " 13  MEDV     506 non-null    float64\n",
      "dtypes: float64(12), int64(2)\n",
      "memory usage: 59.3 KB\n"
     ]
    }
   ],
   "source": [
    "# datatype info\n",
    "\n",
    "housing.info()"
   ]
  },
  {
   "cell_type": "code",
   "execution_count": 5,
   "id": "82c1da42",
   "metadata": {
    "execution": {
     "iopub.execute_input": "2022-11-22T21:16:33.492203Z",
     "iopub.status.busy": "2022-11-22T21:16:33.491805Z",
     "iopub.status.idle": "2022-11-22T21:16:33.502615Z",
     "shell.execute_reply": "2022-11-22T21:16:33.501802Z"
    },
    "papermill": {
     "duration": 0.028474,
     "end_time": "2022-11-22T21:16:33.505007",
     "exception": false,
     "start_time": "2022-11-22T21:16:33.476533",
     "status": "completed"
    },
    "tags": []
   },
   "outputs": [
    {
     "data": {
      "text/html": [
       "<div>\n",
       "<style scoped>\n",
       "    .dataframe tbody tr th:only-of-type {\n",
       "        vertical-align: middle;\n",
       "    }\n",
       "\n",
       "    .dataframe tbody tr th {\n",
       "        vertical-align: top;\n",
       "    }\n",
       "\n",
       "    .dataframe thead th {\n",
       "        text-align: right;\n",
       "    }\n",
       "</style>\n",
       "<table border=\"1\" class=\"dataframe\">\n",
       "  <thead>\n",
       "    <tr style=\"text-align: right;\">\n",
       "      <th></th>\n",
       "      <th>0</th>\n",
       "    </tr>\n",
       "  </thead>\n",
       "  <tbody>\n",
       "    <tr>\n",
       "      <th>CRIM</th>\n",
       "      <td>0</td>\n",
       "    </tr>\n",
       "    <tr>\n",
       "      <th>ZN</th>\n",
       "      <td>0</td>\n",
       "    </tr>\n",
       "    <tr>\n",
       "      <th>INDUS</th>\n",
       "      <td>0</td>\n",
       "    </tr>\n",
       "    <tr>\n",
       "      <th>CHAS</th>\n",
       "      <td>0</td>\n",
       "    </tr>\n",
       "    <tr>\n",
       "      <th>NOX</th>\n",
       "      <td>0</td>\n",
       "    </tr>\n",
       "    <tr>\n",
       "      <th>RM</th>\n",
       "      <td>0</td>\n",
       "    </tr>\n",
       "    <tr>\n",
       "      <th>AGE</th>\n",
       "      <td>0</td>\n",
       "    </tr>\n",
       "    <tr>\n",
       "      <th>DIS</th>\n",
       "      <td>0</td>\n",
       "    </tr>\n",
       "    <tr>\n",
       "      <th>RAD</th>\n",
       "      <td>0</td>\n",
       "    </tr>\n",
       "    <tr>\n",
       "      <th>TAX</th>\n",
       "      <td>0</td>\n",
       "    </tr>\n",
       "    <tr>\n",
       "      <th>PTRATIO</th>\n",
       "      <td>0</td>\n",
       "    </tr>\n",
       "    <tr>\n",
       "      <th>B</th>\n",
       "      <td>0</td>\n",
       "    </tr>\n",
       "    <tr>\n",
       "      <th>LSTAT</th>\n",
       "      <td>0</td>\n",
       "    </tr>\n",
       "    <tr>\n",
       "      <th>MEDV</th>\n",
       "      <td>0</td>\n",
       "    </tr>\n",
       "  </tbody>\n",
       "</table>\n",
       "</div>"
      ],
      "text/plain": [
       "         0\n",
       "CRIM     0\n",
       "ZN       0\n",
       "INDUS    0\n",
       "CHAS     0\n",
       "NOX      0\n",
       "RM       0\n",
       "AGE      0\n",
       "DIS      0\n",
       "RAD      0\n",
       "TAX      0\n",
       "PTRATIO  0\n",
       "B        0\n",
       "LSTAT    0\n",
       "MEDV     0"
      ]
     },
     "execution_count": 5,
     "metadata": {},
     "output_type": "execute_result"
    }
   ],
   "source": [
    "# check for null values\n",
    "housing.isna().sum().to_frame()"
   ]
  },
  {
   "cell_type": "code",
   "execution_count": 6,
   "id": "5da15fb4",
   "metadata": {
    "execution": {
     "iopub.execute_input": "2022-11-22T21:16:33.535489Z",
     "iopub.status.busy": "2022-11-22T21:16:33.534580Z",
     "iopub.status.idle": "2022-11-22T21:16:33.587243Z",
     "shell.execute_reply": "2022-11-22T21:16:33.585820Z"
    },
    "papermill": {
     "duration": 0.070705,
     "end_time": "2022-11-22T21:16:33.589830",
     "exception": false,
     "start_time": "2022-11-22T21:16:33.519125",
     "status": "completed"
    },
    "tags": []
   },
   "outputs": [
    {
     "data": {
      "text/html": [
       "<div>\n",
       "<style scoped>\n",
       "    .dataframe tbody tr th:only-of-type {\n",
       "        vertical-align: middle;\n",
       "    }\n",
       "\n",
       "    .dataframe tbody tr th {\n",
       "        vertical-align: top;\n",
       "    }\n",
       "\n",
       "    .dataframe thead th {\n",
       "        text-align: right;\n",
       "    }\n",
       "</style>\n",
       "<table border=\"1\" class=\"dataframe\">\n",
       "  <thead>\n",
       "    <tr style=\"text-align: right;\">\n",
       "      <th></th>\n",
       "      <th>CRIM</th>\n",
       "      <th>ZN</th>\n",
       "      <th>INDUS</th>\n",
       "      <th>CHAS</th>\n",
       "      <th>NOX</th>\n",
       "      <th>RM</th>\n",
       "      <th>AGE</th>\n",
       "      <th>DIS</th>\n",
       "      <th>RAD</th>\n",
       "      <th>TAX</th>\n",
       "      <th>PTRATIO</th>\n",
       "      <th>B</th>\n",
       "      <th>LSTAT</th>\n",
       "      <th>MEDV</th>\n",
       "    </tr>\n",
       "  </thead>\n",
       "  <tbody>\n",
       "    <tr>\n",
       "      <th>count</th>\n",
       "      <td>506.000000</td>\n",
       "      <td>506.000000</td>\n",
       "      <td>506.000000</td>\n",
       "      <td>506.000000</td>\n",
       "      <td>506.000000</td>\n",
       "      <td>506.000000</td>\n",
       "      <td>506.000000</td>\n",
       "      <td>506.000000</td>\n",
       "      <td>506.000000</td>\n",
       "      <td>506.000000</td>\n",
       "      <td>506.000000</td>\n",
       "      <td>506.000000</td>\n",
       "      <td>506.000000</td>\n",
       "      <td>506.000000</td>\n",
       "    </tr>\n",
       "    <tr>\n",
       "      <th>mean</th>\n",
       "      <td>3.613524</td>\n",
       "      <td>11.363636</td>\n",
       "      <td>11.136779</td>\n",
       "      <td>0.069170</td>\n",
       "      <td>0.554695</td>\n",
       "      <td>6.284634</td>\n",
       "      <td>68.574901</td>\n",
       "      <td>3.795043</td>\n",
       "      <td>9.549407</td>\n",
       "      <td>408.237154</td>\n",
       "      <td>18.455534</td>\n",
       "      <td>356.674032</td>\n",
       "      <td>12.653063</td>\n",
       "      <td>22.532806</td>\n",
       "    </tr>\n",
       "    <tr>\n",
       "      <th>std</th>\n",
       "      <td>8.601545</td>\n",
       "      <td>23.322453</td>\n",
       "      <td>6.860353</td>\n",
       "      <td>0.253994</td>\n",
       "      <td>0.115878</td>\n",
       "      <td>0.702617</td>\n",
       "      <td>28.148861</td>\n",
       "      <td>2.105710</td>\n",
       "      <td>8.707259</td>\n",
       "      <td>168.537116</td>\n",
       "      <td>2.164946</td>\n",
       "      <td>91.294864</td>\n",
       "      <td>7.141062</td>\n",
       "      <td>9.197104</td>\n",
       "    </tr>\n",
       "    <tr>\n",
       "      <th>min</th>\n",
       "      <td>0.006320</td>\n",
       "      <td>0.000000</td>\n",
       "      <td>0.460000</td>\n",
       "      <td>0.000000</td>\n",
       "      <td>0.385000</td>\n",
       "      <td>3.561000</td>\n",
       "      <td>2.900000</td>\n",
       "      <td>1.129600</td>\n",
       "      <td>1.000000</td>\n",
       "      <td>187.000000</td>\n",
       "      <td>12.600000</td>\n",
       "      <td>0.320000</td>\n",
       "      <td>1.730000</td>\n",
       "      <td>5.000000</td>\n",
       "    </tr>\n",
       "    <tr>\n",
       "      <th>25%</th>\n",
       "      <td>0.082045</td>\n",
       "      <td>0.000000</td>\n",
       "      <td>5.190000</td>\n",
       "      <td>0.000000</td>\n",
       "      <td>0.449000</td>\n",
       "      <td>5.885500</td>\n",
       "      <td>45.025000</td>\n",
       "      <td>2.100175</td>\n",
       "      <td>4.000000</td>\n",
       "      <td>279.000000</td>\n",
       "      <td>17.400000</td>\n",
       "      <td>375.377500</td>\n",
       "      <td>6.950000</td>\n",
       "      <td>17.025000</td>\n",
       "    </tr>\n",
       "    <tr>\n",
       "      <th>50%</th>\n",
       "      <td>0.256510</td>\n",
       "      <td>0.000000</td>\n",
       "      <td>9.690000</td>\n",
       "      <td>0.000000</td>\n",
       "      <td>0.538000</td>\n",
       "      <td>6.208500</td>\n",
       "      <td>77.500000</td>\n",
       "      <td>3.207450</td>\n",
       "      <td>5.000000</td>\n",
       "      <td>330.000000</td>\n",
       "      <td>19.050000</td>\n",
       "      <td>391.440000</td>\n",
       "      <td>11.360000</td>\n",
       "      <td>21.200000</td>\n",
       "    </tr>\n",
       "    <tr>\n",
       "      <th>75%</th>\n",
       "      <td>3.677083</td>\n",
       "      <td>12.500000</td>\n",
       "      <td>18.100000</td>\n",
       "      <td>0.000000</td>\n",
       "      <td>0.624000</td>\n",
       "      <td>6.623500</td>\n",
       "      <td>94.075000</td>\n",
       "      <td>5.188425</td>\n",
       "      <td>24.000000</td>\n",
       "      <td>666.000000</td>\n",
       "      <td>20.200000</td>\n",
       "      <td>396.225000</td>\n",
       "      <td>16.955000</td>\n",
       "      <td>25.000000</td>\n",
       "    </tr>\n",
       "    <tr>\n",
       "      <th>max</th>\n",
       "      <td>88.976200</td>\n",
       "      <td>100.000000</td>\n",
       "      <td>27.740000</td>\n",
       "      <td>1.000000</td>\n",
       "      <td>0.871000</td>\n",
       "      <td>8.780000</td>\n",
       "      <td>100.000000</td>\n",
       "      <td>12.126500</td>\n",
       "      <td>24.000000</td>\n",
       "      <td>711.000000</td>\n",
       "      <td>22.000000</td>\n",
       "      <td>396.900000</td>\n",
       "      <td>37.970000</td>\n",
       "      <td>50.000000</td>\n",
       "    </tr>\n",
       "  </tbody>\n",
       "</table>\n",
       "</div>"
      ],
      "text/plain": [
       "             CRIM          ZN       INDUS        CHAS         NOX          RM  \\\n",
       "count  506.000000  506.000000  506.000000  506.000000  506.000000  506.000000   \n",
       "mean     3.613524   11.363636   11.136779    0.069170    0.554695    6.284634   \n",
       "std      8.601545   23.322453    6.860353    0.253994    0.115878    0.702617   \n",
       "min      0.006320    0.000000    0.460000    0.000000    0.385000    3.561000   \n",
       "25%      0.082045    0.000000    5.190000    0.000000    0.449000    5.885500   \n",
       "50%      0.256510    0.000000    9.690000    0.000000    0.538000    6.208500   \n",
       "75%      3.677083   12.500000   18.100000    0.000000    0.624000    6.623500   \n",
       "max     88.976200  100.000000   27.740000    1.000000    0.871000    8.780000   \n",
       "\n",
       "              AGE         DIS         RAD         TAX     PTRATIO           B  \\\n",
       "count  506.000000  506.000000  506.000000  506.000000  506.000000  506.000000   \n",
       "mean    68.574901    3.795043    9.549407  408.237154   18.455534  356.674032   \n",
       "std     28.148861    2.105710    8.707259  168.537116    2.164946   91.294864   \n",
       "min      2.900000    1.129600    1.000000  187.000000   12.600000    0.320000   \n",
       "25%     45.025000    2.100175    4.000000  279.000000   17.400000  375.377500   \n",
       "50%     77.500000    3.207450    5.000000  330.000000   19.050000  391.440000   \n",
       "75%     94.075000    5.188425   24.000000  666.000000   20.200000  396.225000   \n",
       "max    100.000000   12.126500   24.000000  711.000000   22.000000  396.900000   \n",
       "\n",
       "            LSTAT        MEDV  \n",
       "count  506.000000  506.000000  \n",
       "mean    12.653063   22.532806  \n",
       "std      7.141062    9.197104  \n",
       "min      1.730000    5.000000  \n",
       "25%      6.950000   17.025000  \n",
       "50%     11.360000   21.200000  \n",
       "75%     16.955000   25.000000  \n",
       "max     37.970000   50.000000  "
      ]
     },
     "execution_count": 6,
     "metadata": {},
     "output_type": "execute_result"
    }
   ],
   "source": [
    "# statistical info\n",
    "\n",
    "housing.describe()"
   ]
  },
  {
   "cell_type": "code",
   "execution_count": 7,
   "id": "3673799a",
   "metadata": {
    "execution": {
     "iopub.execute_input": "2022-11-22T21:16:33.620468Z",
     "iopub.status.busy": "2022-11-22T21:16:33.620081Z",
     "iopub.status.idle": "2022-11-22T21:16:33.631449Z",
     "shell.execute_reply": "2022-11-22T21:16:33.630364Z"
    },
    "papermill": {
     "duration": 0.029292,
     "end_time": "2022-11-22T21:16:33.633670",
     "exception": false,
     "start_time": "2022-11-22T21:16:33.604378",
     "status": "completed"
    },
    "tags": []
   },
   "outputs": [
    {
     "data": {
      "text/plain": [
       "CRIM       504\n",
       "ZN          26\n",
       "INDUS       76\n",
       "CHAS         2\n",
       "NOX         81\n",
       "RM         446\n",
       "AGE        356\n",
       "DIS        412\n",
       "RAD          9\n",
       "TAX         66\n",
       "PTRATIO     46\n",
       "B          357\n",
       "LSTAT      455\n",
       "MEDV       229\n",
       "dtype: int64"
      ]
     },
     "execution_count": 7,
     "metadata": {},
     "output_type": "execute_result"
    }
   ],
   "source": [
    "# Finging unique values for each column\n",
    "# TO understand which column is categorical and which one is Continuous\n",
    "# Typically if the numer of unique values are < 20 then the variable is likely to be a category otherwise continuous\n",
    "housing.nunique()"
   ]
  },
  {
   "cell_type": "markdown",
   "id": "e4377e31",
   "metadata": {
    "papermill": {
     "duration": 0.015697,
     "end_time": "2022-11-22T21:16:33.664083",
     "exception": false,
     "start_time": "2022-11-22T21:16:33.648386",
     "status": "completed"
    },
    "tags": []
   },
   "source": [
    "# **Basic Data Exploration Results**\n",
    "Based on the basic exploration above, you can now create a simple report of the data, noting down your observations regaring each column. Hence, creating a initial roadmap for further analysis.\n",
    "\n",
    "The selected columns in this step are not final, further study will be done and then a final list will be created\n",
    "\n",
    "**CRIM** - Continuous. Selected.\n",
    "\n",
    "**ZN** - Continuous. Selected.\n",
    "\n",
    "**INDUS** - Continuous. Selected.\n",
    "\n",
    "**CHAS** - Categorical. Selected.\n",
    "\n",
    "**NOX** - Continuous. Selected.\n",
    "\n",
    "**RM** - Continuous. Selected.\n",
    "\n",
    "**AGE** - Continuous. Selected.\n",
    "\n",
    "**DIS** - Continuous. Selected.\n",
    "\n",
    "**RAD** - Categorical. Selected.\n",
    "\n",
    "**TAX** - Continuous. Selected.\n",
    "\n",
    "**PTRATIO** - Continuous. Selected.\n",
    "\n",
    "**B** - Continuous. Selected.\n",
    "\n",
    "**LSTAT** - Continuous. Selected.\n",
    "\n",
    "**MEDV** - Continuous. Selected. This is the Target Variable!"
   ]
  },
  {
   "cell_type": "code",
   "execution_count": 8,
   "id": "53a57f2c",
   "metadata": {
    "execution": {
     "iopub.execute_input": "2022-11-22T21:16:33.695818Z",
     "iopub.status.busy": "2022-11-22T21:16:33.695116Z",
     "iopub.status.idle": "2022-11-22T21:16:33.705234Z",
     "shell.execute_reply": "2022-11-22T21:16:33.704421Z"
    },
    "papermill": {
     "duration": 0.029057,
     "end_time": "2022-11-22T21:16:33.707922",
     "exception": false,
     "start_time": "2022-11-22T21:16:33.678865",
     "status": "completed"
    },
    "tags": []
   },
   "outputs": [
    {
     "name": "stdout",
     "output_type": "stream",
     "text": [
      "Number of observetion: 506\n",
      "Number of features: 14\n",
      "------------------------------------------------------------\n",
      "Categorical Features: Index([], dtype='object')\n",
      "\n",
      "Numerical Features: Index(['CRIM', 'ZN', 'INDUS', 'CHAS', 'NOX', 'RM', 'AGE', 'DIS', 'RAD', 'TAX',\n",
      "       'PTRATIO', 'B', 'LSTAT', 'MEDV'],\n",
      "      dtype='object')\n"
     ]
    }
   ],
   "source": [
    "def overview_dataset(df):\n",
    "    # Observetions\n",
    "    print(\"Number of observetion:\", df.shape[0])\n",
    "    # Features\n",
    "    print(\"Number of features:\", df.shape[1])\n",
    "    print(\"-\"*60)\n",
    "    #Categorical Features\n",
    "    print(\"Categorical Features:\", df.select_dtypes(include = [object]).columns)\n",
    "    print(\"\")\n",
    "    # Numerical Features\n",
    "    print(\"Numerical Features:\", df.select_dtypes(include = [int,float]).columns)\n",
    "    \n",
    "overview_dataset(housing)"
   ]
  },
  {
   "cell_type": "markdown",
   "id": "0e939a03",
   "metadata": {
    "papermill": {
     "duration": 0.01424,
     "end_time": "2022-11-22T21:16:33.737603",
     "exception": false,
     "start_time": "2022-11-22T21:16:33.723363",
     "status": "completed"
    },
    "tags": []
   },
   "source": [
    "# **Multivariate Analysis**"
   ]
  },
  {
   "cell_type": "code",
   "execution_count": 9,
   "id": "f69f95f4",
   "metadata": {
    "execution": {
     "iopub.execute_input": "2022-11-22T21:16:33.768458Z",
     "iopub.status.busy": "2022-11-22T21:16:33.767801Z",
     "iopub.status.idle": "2022-11-22T21:16:33.780558Z",
     "shell.execute_reply": "2022-11-22T21:16:33.779352Z"
    },
    "papermill": {
     "duration": 0.031083,
     "end_time": "2022-11-22T21:16:33.783189",
     "exception": false,
     "start_time": "2022-11-22T21:16:33.752106",
     "status": "completed"
    },
    "tags": []
   },
   "outputs": [
    {
     "data": {
      "text/plain": [
       "MEDV       1.000000\n",
       "RM         0.695360\n",
       "ZN         0.360445\n",
       "B          0.333461\n",
       "DIS        0.249929\n",
       "CHAS       0.175260\n",
       "AGE       -0.376955\n",
       "RAD       -0.381626\n",
       "CRIM      -0.388305\n",
       "NOX       -0.427321\n",
       "TAX       -0.468536\n",
       "INDUS     -0.483725\n",
       "PTRATIO   -0.507787\n",
       "LSTAT     -0.737663\n",
       "Name: MEDV, dtype: float64"
      ]
     },
     "execution_count": 9,
     "metadata": {},
     "output_type": "execute_result"
    }
   ],
   "source": [
    "Corr_matrix=housing.corr()\n",
    "Corr_matrix['MEDV'].sort_values(ascending=False)"
   ]
  },
  {
   "cell_type": "code",
   "execution_count": 10,
   "id": "a771ef05",
   "metadata": {
    "execution": {
     "iopub.execute_input": "2022-11-22T21:16:33.814159Z",
     "iopub.status.busy": "2022-11-22T21:16:33.813735Z",
     "iopub.status.idle": "2022-11-22T21:16:34.590039Z",
     "shell.execute_reply": "2022-11-22T21:16:34.588645Z"
    },
    "papermill": {
     "duration": 0.795147,
     "end_time": "2022-11-22T21:16:34.593011",
     "exception": false,
     "start_time": "2022-11-22T21:16:33.797864",
     "status": "completed"
    },
    "tags": []
   },
   "outputs": [
    {
     "data": {
      "image/png": "[encoded data removed]",
      "text/plain": [
       "<Figure size 792x648 with 2 Axes>"
      ]
     },
     "metadata": {
      "needs_background": "light"
     },
     "output_type": "display_data"
    }
   ],
   "source": [
    "plt.figure(figsize=(11,9))\n",
    "corr = housing.corr().round(2)\n",
    "\n",
    "mask = np.zeros_like(corr, dtype=np.bool)\n",
    "mask[np.triu_indices_from(mask)] = True\n",
    "# # Want diagonal elements as well\n",
    "# mask[np.diag_indices_from(mask)] = False\n",
    "\n",
    "sns.heatmap(data=corr, annot=True,cmap='coolwarm',mask=mask)\n",
    "plt.xticks(rotation=90)\n",
    "plt.show()"
   ]
  },
  {
   "cell_type": "markdown",
   "id": "f7bb7b1f",
   "metadata": {
    "papermill": {
     "duration": 0.015705,
     "end_time": "2022-11-22T21:16:34.624462",
     "exception": false,
     "start_time": "2022-11-22T21:16:34.608757",
     "status": "completed"
    },
    "tags": []
   },
   "source": [
    "# **Univariate Analysis**"
   ]
  },
  {
   "cell_type": "markdown",
   "id": "249fd0b3",
   "metadata": {
    "papermill": {
     "duration": 0.015431,
     "end_time": "2022-11-22T21:16:34.656152",
     "exception": false,
     "start_time": "2022-11-22T21:16:34.640721",
     "status": "completed"
    },
    "tags": []
   },
   "source": [
    "# Checking for outliers"
   ]
  },
  {
   "cell_type": "code",
   "execution_count": 11,
   "id": "5d6e63e5",
   "metadata": {
    "execution": {
     "iopub.execute_input": "2022-11-22T21:16:34.689167Z",
     "iopub.status.busy": "2022-11-22T21:16:34.688747Z",
     "iopub.status.idle": "2022-11-22T21:16:39.394453Z",
     "shell.execute_reply": "2022-11-22T21:16:39.393231Z"
    },
    "papermill": {
     "duration": 4.725752,
     "end_time": "2022-11-22T21:16:39.397418",
     "exception": false,
     "start_time": "2022-11-22T21:16:34.671666",
     "status": "completed"
    },
    "tags": []
   },
   "outputs": [
    {
     "data": {
      "image/png": "[encoded data removed]",
      "text/plain": [
       "<Figure size 1080x108 with 2 Axes>"
      ]
     },
     "metadata": {
      "needs_background": "light"
     },
     "output_type": "display_data"
    },
    {
     "data": {
      "image/png": "[encoded data removed]",
      "text/plain": [
       "<Figure size 1080x108 with 2 Axes>"
      ]
     },
     "metadata": {
      "needs_background": "light"
     },
     "output_type": "display_data"
    },
    {
     "data": {
      "image/png": "[encoded data removed]",
      "text/plain": [
       "<Figure size 1080x108 with 2 Axes>"
      ]
     },
     "metadata": {
      "needs_background": "light"
     },
     "output_type": "display_data"
    },
    {
     "data": {
      "image/png": "[encoded data removed]",
      "text/plain": [
       "<Figure size 1080x108 with 2 Axes>"
      ]
     },
     "metadata": {
      "needs_background": "light"
     },
     "output_type": "display_data"
    },
    {
     "data": {
      "image/png": "[encoded data removed]",
      "text/plain": [
       "<Figure size 1080x108 with 2 Axes>"
      ]
     },
     "metadata": {
      "needs_background": "light"
     },
     "output_type": "display_data"
    },
    {
     "data": {
      "image/png": "[encoded data removed]",
      "text/plain": [
       "<Figure size 1080x108 with 2 Axes>"
      ]
     },
     "metadata": {
      "needs_background": "light"
     },
     "output_type": "display_data"
    },
    {
     "data": {
      "image/png": "[encoded data removed]",
      "text/plain": [
       "<Figure size 1080x108 with 2 Axes>"
      ]
     },
     "metadata": {
      "needs_background": "light"
     },
     "output_type": "display_data"
    },
    {
     "data": {
      "image/png": "[encoded data removed]",
      "text/plain": [
       "<Figure size 1080x108 with 2 Axes>"
      ]
     },
     "metadata": {
      "needs_background": "light"
     },
     "output_type": "display_data"
    },
    {
     "data": {
      "image/png": "[encoded data removed]",
      "text/plain": [
       "<Figure size 1080x108 with 2 Axes>"
      ]
     },
     "metadata": {
      "needs_background": "light"
     },
     "output_type": "display_data"
    },
    {
     "data": {
      "image/png": "[encoded data removed]",
      "text/plain": [
       "<Figure size 1080x108 with 2 Axes>"
      ]
     },
     "metadata": {
      "needs_background": "light"
     },
     "output_type": "display_data"
    },
    {
     "data": {
      "image/png": "[encoded data removed]",
      "text/plain": [
       "<Figure size 1080x108 with 2 Axes>"
      ]
     },
     "metadata": {
      "needs_background": "light"
     },
     "output_type": "display_data"
    },
    {
     "data": {
      "image/png": "[encoded data removed]",
      "text/plain": [
       "<Figure size 1080x108 with 2 Axes>"
      ]
     },
     "metadata": {
      "needs_background": "light"
     },
     "output_type": "display_data"
    },
    {
     "data": {
      "image/png": "[encoded data removed]",
      "text/plain": [
       "<Figure size 1080x108 with 2 Axes>"
      ]
     },
     "metadata": {
      "needs_background": "light"
     },
     "output_type": "display_data"
    },
    {
     "data": {
      "image/png": "[encoded data removed]",
      "text/plain": [
       "<Figure size 1080x108 with 2 Axes>"
      ]
     },
     "metadata": {
      "needs_background": "light"
     },
     "output_type": "display_data"
    }
   ],
   "source": [
    "for col in housing.columns:\n",
    "    fig,ax = plt.subplots(1,2,figsize=(15,1.5))\n",
    "    if len(np.unique(housing[col]))<10:\n",
    "        sns.countplot(housing[col],ax=ax[0])\n",
    "    else:\n",
    "        sns.distplot(housing[col],bins=50 if len(np.unique(housing[col]))>50 else None,ax=ax[0])\n",
    "        \n",
    "    sns.boxplot(housing[col],ax=ax[1])\n",
    "    plt.suptitle(col,fontsize=20,y=1.2)\n",
    "    plt.show()"
   ]
  },
  {
   "cell_type": "code",
   "execution_count": 12,
   "id": "e2365a33",
   "metadata": {
    "execution": {
     "iopub.execute_input": "2022-11-22T21:16:39.440544Z",
     "iopub.status.busy": "2022-11-22T21:16:39.440101Z",
     "iopub.status.idle": "2022-11-22T21:16:39.448640Z",
     "shell.execute_reply": "2022-11-22T21:16:39.447271Z"
    },
    "papermill": {
     "duration": 0.03343,
     "end_time": "2022-11-22T21:16:39.451894",
     "exception": false,
     "start_time": "2022-11-22T21:16:39.418464",
     "status": "completed"
    },
    "tags": []
   },
   "outputs": [
    {
     "name": "stdout",
     "output_type": "stream",
     "text": [
      "0    471\n",
      "1     35\n",
      "Name: CHAS, dtype: int64\n"
     ]
    }
   ],
   "source": [
    "print(housing['CHAS'].value_counts())"
   ]
  },
  {
   "cell_type": "markdown",
   "id": "cd0e2e4e",
   "metadata": {
    "papermill": {
     "duration": 0.020778,
     "end_time": "2022-11-22T21:16:39.493350",
     "exception": false,
     "start_time": "2022-11-22T21:16:39.472572",
     "status": "completed"
    },
    "tags": []
   },
   "source": [
    "# **Train Test Splitting**"
   ]
  },
  {
   "cell_type": "code",
   "execution_count": 13,
   "id": "13ddb31f",
   "metadata": {
    "execution": {
     "iopub.execute_input": "2022-11-22T21:16:39.536231Z",
     "iopub.status.busy": "2022-11-22T21:16:39.535811Z",
     "iopub.status.idle": "2022-11-22T21:16:39.553706Z",
     "shell.execute_reply": "2022-11-22T21:16:39.552367Z"
    },
    "papermill": {
     "duration": 0.04248,
     "end_time": "2022-11-22T21:16:39.556209",
     "exception": false,
     "start_time": "2022-11-22T21:16:39.513729",
     "status": "completed"
    },
    "tags": []
   },
   "outputs": [],
   "source": [
    "split=StratifiedShuffleSplit(n_splits=10, test_size=0.2, random_state=42)\n",
    "for train_index,test_index in split.split(housing,housing['CHAS']):\n",
    "    train_dataset=housing.loc[train_index]\n",
    "    test_dataset=housing.loc[test_index]"
   ]
  },
  {
   "cell_type": "code",
   "execution_count": 14,
   "id": "b702ddf4",
   "metadata": {
    "execution": {
     "iopub.execute_input": "2022-11-22T21:16:39.599643Z",
     "iopub.status.busy": "2022-11-22T21:16:39.598746Z",
     "iopub.status.idle": "2022-11-22T21:16:39.609735Z",
     "shell.execute_reply": "2022-11-22T21:16:39.608123Z"
    },
    "papermill": {
     "duration": 0.035195,
     "end_time": "2022-11-22T21:16:39.612180",
     "exception": false,
     "start_time": "2022-11-22T21:16:39.576985",
     "status": "completed"
    },
    "tags": []
   },
   "outputs": [
    {
     "name": "stdout",
     "output_type": "stream",
     "text": [
      "Train Data Shape: (404, 14)\n",
      "Test Data Shape: (102, 14)\n",
      "\n",
      "column CHAS values count in train dataset:\n",
      " 0    376\n",
      "1     28\n",
      "Name: CHAS, dtype: int64\n",
      "\n",
      "column CHAS values count in test dataset:\n",
      " 0    95\n",
      "1     7\n",
      "Name: CHAS, dtype: int64\n"
     ]
    }
   ],
   "source": [
    "print(\"Train Data Shape:\",train_dataset.shape)\n",
    "print(\"Test Data Shape:\", test_dataset.shape)\n",
    "print(\"\\ncolumn CHAS values count in train dataset:\\n\",train_dataset['CHAS'].value_counts())\n",
    "print(\"\\ncolumn CHAS values count in test dataset:\\n\",test_dataset['CHAS'].value_counts())"
   ]
  },
  {
   "cell_type": "code",
   "execution_count": 15,
   "id": "88f0d7cd",
   "metadata": {
    "execution": {
     "iopub.execute_input": "2022-11-22T21:16:39.655686Z",
     "iopub.status.busy": "2022-11-22T21:16:39.654102Z",
     "iopub.status.idle": "2022-11-22T21:16:39.661276Z",
     "shell.execute_reply": "2022-11-22T21:16:39.659981Z"
    },
    "papermill": {
     "duration": 0.032632,
     "end_time": "2022-11-22T21:16:39.664350",
     "exception": false,
     "start_time": "2022-11-22T21:16:39.631718",
     "status": "completed"
    },
    "tags": []
   },
   "outputs": [],
   "source": [
    "X_train=train_dataset.drop(\"MEDV\",axis=1)\n",
    "Y_train=train_dataset[\"MEDV\"]\n"
   ]
  },
  {
   "cell_type": "markdown",
   "id": "10b99671",
   "metadata": {
    "papermill": {
     "duration": 0.019341,
     "end_time": "2022-11-22T21:16:39.704863",
     "exception": false,
     "start_time": "2022-11-22T21:16:39.685522",
     "status": "completed"
    },
    "tags": []
   },
   "source": [
    "# Calculating Outliers"
   ]
  },
  {
   "cell_type": "code",
   "execution_count": 16,
   "id": "fae8cb48",
   "metadata": {
    "execution": {
     "iopub.execute_input": "2022-11-22T21:16:39.746917Z",
     "iopub.status.busy": "2022-11-22T21:16:39.745655Z",
     "iopub.status.idle": "2022-11-22T21:16:39.783648Z",
     "shell.execute_reply": "2022-11-22T21:16:39.781937Z"
    },
    "papermill": {
     "duration": 0.062002,
     "end_time": "2022-11-22T21:16:39.786420",
     "exception": false,
     "start_time": "2022-11-22T21:16:39.724418",
     "status": "completed"
    },
    "tags": []
   },
   "outputs": [
    {
     "name": "stdout",
     "output_type": "stream",
     "text": [
      "Column CRIM outliers = 13.61%\n",
      "Column ZN outliers = 10.40%\n",
      "Column INDUS outliers = 0.00%\n",
      "Column CHAS outliers = 100.00%\n",
      "Column NOX outliers = 0.00%\n",
      "Column RM outliers = 6.44%\n",
      "Column AGE outliers = 0.00%\n",
      "Column DIS outliers = 0.50%\n",
      "Column RAD outliers = 0.00%\n",
      "Column TAX outliers = 0.00%\n",
      "Column PTRATIO outliers = 0.00%\n",
      "Column B outliers = 13.37%\n",
      "Column LSTAT outliers = 1.49%\n"
     ]
    }
   ],
   "source": [
    "for k, v in X_train.items():\n",
    "        q1 = v.quantile(0.25)\n",
    "        q3 = v.quantile(0.75)\n",
    "        irq = q3 - q1\n",
    "        v_col = v[(v <= q1 - 1.5 * irq) | (v >= q3 + 1.5 * irq)]\n",
    "        perc = np.shape(v_col)[0] * 100.0 / np.shape(X_train)[0]\n",
    "        print(\"Column %s outliers = %.2f%%\" % (k, perc))"
   ]
  },
  {
   "cell_type": "markdown",
   "id": "1c3c9edd",
   "metadata": {
    "papermill": {
     "duration": 0.019204,
     "end_time": "2022-11-22T21:16:39.826146",
     "exception": false,
     "start_time": "2022-11-22T21:16:39.806942",
     "status": "completed"
    },
    "tags": []
   },
   "source": [
    "# **Choosing the relevant transformer for the dataset**"
   ]
  },
  {
   "cell_type": "markdown",
   "id": "eb31d01f",
   "metadata": {
    "papermill": {
     "duration": 0.019176,
     "end_time": "2022-11-22T21:16:39.864573",
     "exception": false,
     "start_time": "2022-11-22T21:16:39.845397",
     "status": "completed"
    },
    "tags": []
   },
   "source": [
    "# StandardScaler"
   ]
  },
  {
   "cell_type": "code",
   "execution_count": 17,
   "id": "10575d03",
   "metadata": {
    "execution": {
     "iopub.execute_input": "2022-11-22T21:16:39.907041Z",
     "iopub.status.busy": "2022-11-22T21:16:39.906633Z",
     "iopub.status.idle": "2022-11-22T21:16:39.916708Z",
     "shell.execute_reply": "2022-11-22T21:16:39.915427Z"
    },
    "papermill": {
     "duration": 0.035042,
     "end_time": "2022-11-22T21:16:39.919130",
     "exception": false,
     "start_time": "2022-11-22T21:16:39.884088",
     "status": "completed"
    },
    "tags": []
   },
   "outputs": [],
   "source": [
    "scaler = StandardScaler()\n",
    "stds_new = scaler.fit_transform(X_train)\n",
    "stds_data = pd.DataFrame(data=stds_new, columns=X_train.columns)"
   ]
  },
  {
   "cell_type": "markdown",
   "id": "f8dc7727",
   "metadata": {
    "papermill": {
     "duration": 0.019759,
     "end_time": "2022-11-22T21:16:39.958853",
     "exception": false,
     "start_time": "2022-11-22T21:16:39.939094",
     "status": "completed"
    },
    "tags": []
   },
   "source": [
    "# Robust Scaler"
   ]
  },
  {
   "cell_type": "code",
   "execution_count": 18,
   "id": "1262eb01",
   "metadata": {
    "execution": {
     "iopub.execute_input": "2022-11-22T21:16:40.000116Z",
     "iopub.status.busy": "2022-11-22T21:16:39.999695Z",
     "iopub.status.idle": "2022-11-22T21:16:40.011364Z",
     "shell.execute_reply": "2022-11-22T21:16:40.010155Z"
    },
    "papermill": {
     "duration": 0.035348,
     "end_time": "2022-11-22T21:16:40.013784",
     "exception": false,
     "start_time": "2022-11-22T21:16:39.978436",
     "status": "completed"
    },
    "tags": []
   },
   "outputs": [],
   "source": [
    "rs = RobustScaler()\n",
    "rs_new = rs.fit_transform(X_train)\n",
    "rs_data = pd.DataFrame(data=rs_new, columns=X_train.columns)"
   ]
  },
  {
   "cell_type": "markdown",
   "id": "c48deea1",
   "metadata": {
    "papermill": {
     "duration": 0.01924,
     "end_time": "2022-11-22T21:16:40.052464",
     "exception": false,
     "start_time": "2022-11-22T21:16:40.033224",
     "status": "completed"
    },
    "tags": []
   },
   "source": [
    "# Quantile Transformer"
   ]
  },
  {
   "cell_type": "code",
   "execution_count": 19,
   "id": "4c1ffeb0",
   "metadata": {
    "execution": {
     "iopub.execute_input": "2022-11-22T21:16:40.093291Z",
     "iopub.status.busy": "2022-11-22T21:16:40.092846Z",
     "iopub.status.idle": "2022-11-22T21:16:40.109148Z",
     "shell.execute_reply": "2022-11-22T21:16:40.108071Z"
    },
    "papermill": {
     "duration": 0.040263,
     "end_time": "2022-11-22T21:16:40.111954",
     "exception": false,
     "start_time": "2022-11-22T21:16:40.071691",
     "status": "completed"
    },
    "tags": []
   },
   "outputs": [],
   "source": [
    "qt = QuantileTransformer()\n",
    "qt_new = qt.fit_transform(X_train)\n",
    "qt_data = pd.DataFrame(data=qt_new, columns=X_train.columns)"
   ]
  },
  {
   "cell_type": "markdown",
   "id": "6b5bcd76",
   "metadata": {
    "papermill": {
     "duration": 0.018815,
     "end_time": "2022-11-22T21:16:40.150161",
     "exception": false,
     "start_time": "2022-11-22T21:16:40.131346",
     "status": "completed"
    },
    "tags": []
   },
   "source": [
    "# Yeo-Johnson Transformer"
   ]
  },
  {
   "cell_type": "code",
   "execution_count": 20,
   "id": "b2ef8e61",
   "metadata": {
    "execution": {
     "iopub.execute_input": "2022-11-22T21:16:40.190563Z",
     "iopub.status.busy": "2022-11-22T21:16:40.190186Z",
     "iopub.status.idle": "2022-11-22T21:16:40.226243Z",
     "shell.execute_reply": "2022-11-22T21:16:40.225351Z"
    },
    "papermill": {
     "duration": 0.05929,
     "end_time": "2022-11-22T21:16:40.228684",
     "exception": false,
     "start_time": "2022-11-22T21:16:40.169394",
     "status": "completed"
    },
    "tags": []
   },
   "outputs": [],
   "source": [
    "yeojohnTr = PowerTransformer(standardize=True)\n",
    "yeo_new = yeojohnTr.fit_transform(X_train)\n",
    "yeo_data = pd.DataFrame(data=yeo_new , columns=X_train.columns)"
   ]
  },
  {
   "cell_type": "markdown",
   "id": "0064cf95",
   "metadata": {
    "papermill": {
     "duration": 0.019145,
     "end_time": "2022-11-22T21:16:40.267254",
     "exception": false,
     "start_time": "2022-11-22T21:16:40.248109",
     "status": "completed"
    },
    "tags": []
   },
   "source": [
    "# Choosing the most efficient transformer"
   ]
  },
  {
   "cell_type": "code",
   "execution_count": 21,
   "id": "4212d669",
   "metadata": {
    "execution": {
     "iopub.execute_input": "2022-11-22T21:16:40.308406Z",
     "iopub.status.busy": "2022-11-22T21:16:40.307603Z",
     "iopub.status.idle": "2022-11-22T21:16:40.331774Z",
     "shell.execute_reply": "2022-11-22T21:16:40.330413Z"
    },
    "papermill": {
     "duration": 0.047541,
     "end_time": "2022-11-22T21:16:40.334106",
     "exception": false,
     "start_time": "2022-11-22T21:16:40.286565",
     "status": "completed"
    },
    "tags": []
   },
   "outputs": [
    {
     "name": "stdout",
     "output_type": "stream",
     "text": [
      "Means\n",
      "Standard Scaler : 0.8651809014264826 \n",
      "Robust Scaler : 0.8651809014264826 \n",
      "Quantile Transformer : 0.36588866642730317 \n",
      "Yeo-Johnson Transformer 0.21902904940210316 \n",
      "\n"
     ]
    },
    {
     "data": {
      "text/html": [
       "<div>\n",
       "<style scoped>\n",
       "    .dataframe tbody tr th:only-of-type {\n",
       "        vertical-align: middle;\n",
       "    }\n",
       "\n",
       "    .dataframe tbody tr th {\n",
       "        vertical-align: top;\n",
       "    }\n",
       "\n",
       "    .dataframe thead th {\n",
       "        text-align: right;\n",
       "    }\n",
       "</style>\n",
       "<table border=\"1\" class=\"dataframe\">\n",
       "  <thead>\n",
       "    <tr style=\"text-align: right;\">\n",
       "      <th></th>\n",
       "      <th>Standard Scaler</th>\n",
       "      <th>Robust Scaler</th>\n",
       "      <th>Quantile Transformer</th>\n",
       "      <th>Yeo-Johnson Transformer</th>\n",
       "    </tr>\n",
       "  </thead>\n",
       "  <tbody>\n",
       "    <tr>\n",
       "      <th>CRIM</th>\n",
       "      <td>5.091278</td>\n",
       "      <td>5.091278</td>\n",
       "      <td>4.510868e-07</td>\n",
       "      <td>0.630676</td>\n",
       "    </tr>\n",
       "    <tr>\n",
       "      <th>ZN</th>\n",
       "      <td>2.175456</td>\n",
       "      <td>2.175456</td>\n",
       "      <td>1.077614e+00</td>\n",
       "      <td>1.043943</td>\n",
       "    </tr>\n",
       "    <tr>\n",
       "      <th>INDUS</th>\n",
       "      <td>0.328743</td>\n",
       "      <td>0.328743</td>\n",
       "      <td>-4.484148e-02</td>\n",
       "      <td>-0.089959</td>\n",
       "    </tr>\n",
       "    <tr>\n",
       "      <th>CHAS</th>\n",
       "      <td>3.404266</td>\n",
       "      <td>3.404266</td>\n",
       "      <td>3.404266e+00</td>\n",
       "      <td>3.404266</td>\n",
       "    </tr>\n",
       "    <tr>\n",
       "      <th>NOX</th>\n",
       "      <td>0.749074</td>\n",
       "      <td>0.749074</td>\n",
       "      <td>1.024643e-02</td>\n",
       "      <td>0.107536</td>\n",
       "    </tr>\n",
       "    <tr>\n",
       "      <th>RM</th>\n",
       "      <td>0.313269</td>\n",
       "      <td>0.313269</td>\n",
       "      <td>1.390858e-06</td>\n",
       "      <td>0.037103</td>\n",
       "    </tr>\n",
       "    <tr>\n",
       "      <th>AGE</th>\n",
       "      <td>-0.497231</td>\n",
       "      <td>-0.497231</td>\n",
       "      <td>6.342839e-02</td>\n",
       "      <td>-0.366937</td>\n",
       "    </tr>\n",
       "    <tr>\n",
       "      <th>DIS</th>\n",
       "      <td>0.887272</td>\n",
       "      <td>0.887272</td>\n",
       "      <td>-9.859296e-05</td>\n",
       "      <td>0.059176</td>\n",
       "    </tr>\n",
       "    <tr>\n",
       "      <th>RAD</th>\n",
       "      <td>1.037251</td>\n",
       "      <td>1.037251</td>\n",
       "      <td>1.863574e-01</td>\n",
       "      <td>0.062887</td>\n",
       "    </tr>\n",
       "    <tr>\n",
       "      <th>TAX</th>\n",
       "      <td>0.700043</td>\n",
       "      <td>0.700043</td>\n",
       "      <td>-6.237771e-02</td>\n",
       "      <td>0.094274</td>\n",
       "    </tr>\n",
       "    <tr>\n",
       "      <th>PTRATIO</th>\n",
       "      <td>-0.733261</td>\n",
       "      <td>-0.733261</td>\n",
       "      <td>-5.558950e-02</td>\n",
       "      <td>-0.208284</td>\n",
       "    </tr>\n",
       "    <tr>\n",
       "      <th>B</th>\n",
       "      <td>-3.214552</td>\n",
       "      <td>-3.214552</td>\n",
       "      <td>1.773781e-01</td>\n",
       "      <td>-1.918066</td>\n",
       "    </tr>\n",
       "    <tr>\n",
       "      <th>LSTAT</th>\n",
       "      <td>1.005745</td>\n",
       "      <td>1.005745</td>\n",
       "      <td>1.676551e-04</td>\n",
       "      <td>-0.009236</td>\n",
       "    </tr>\n",
       "  </tbody>\n",
       "</table>\n",
       "</div>"
      ],
      "text/plain": [
       "         Standard Scaler  Robust Scaler  Quantile Transformer  \\\n",
       "CRIM            5.091278       5.091278          4.510868e-07   \n",
       "ZN              2.175456       2.175456          1.077614e+00   \n",
       "INDUS           0.328743       0.328743         -4.484148e-02   \n",
       "CHAS            3.404266       3.404266          3.404266e+00   \n",
       "NOX             0.749074       0.749074          1.024643e-02   \n",
       "RM              0.313269       0.313269          1.390858e-06   \n",
       "AGE            -0.497231      -0.497231          6.342839e-02   \n",
       "DIS             0.887272       0.887272         -9.859296e-05   \n",
       "RAD             1.037251       1.037251          1.863574e-01   \n",
       "TAX             0.700043       0.700043         -6.237771e-02   \n",
       "PTRATIO        -0.733261      -0.733261         -5.558950e-02   \n",
       "B              -3.214552      -3.214552          1.773781e-01   \n",
       "LSTAT           1.005745       1.005745          1.676551e-04   \n",
       "\n",
       "         Yeo-Johnson Transformer  \n",
       "CRIM                    0.630676  \n",
       "ZN                      1.043943  \n",
       "INDUS                  -0.089959  \n",
       "CHAS                    3.404266  \n",
       "NOX                     0.107536  \n",
       "RM                      0.037103  \n",
       "AGE                    -0.366937  \n",
       "DIS                     0.059176  \n",
       "RAD                     0.062887  \n",
       "TAX                     0.094274  \n",
       "PTRATIO                -0.208284  \n",
       "B                      -1.918066  \n",
       "LSTAT                  -0.009236  "
      ]
     },
     "execution_count": 21,
     "metadata": {},
     "output_type": "execute_result"
    }
   ],
   "source": [
    "print(\"Means\\n\"\"Standard Scaler :\",stds_data.skew().mean(),\"\\nRobust Scaler :\",rs_data.skew().mean(),\"\\nQuantile Transformer :\",qt_data.skew().mean(),\"\\nYeo-Johnson Transformer\",yeo_data.skew().mean(),\"\\n\")\n",
    "skews = {'Standard Scaler': stds_data.skew(),'Robust Scaler': rs_data.skew(), 'Quantile Transformer': qt_data.skew(), 'Yeo-Johnson Transformer': yeo_data.skew()}\n",
    "pd.DataFrame(skews)"
   ]
  },
  {
   "cell_type": "markdown",
   "id": "9c7325c6",
   "metadata": {
    "papermill": {
     "duration": 0.019473,
     "end_time": "2022-11-22T21:16:40.373274",
     "exception": false,
     "start_time": "2022-11-22T21:16:40.353801",
     "status": "completed"
    },
    "tags": []
   },
   "source": [
    "**Result** = Yeo-Johnson Transformer is best"
   ]
  },
  {
   "cell_type": "markdown",
   "id": "ce11b823",
   "metadata": {
    "papermill": {
     "duration": 0.019423,
     "end_time": "2022-11-22T21:16:40.412455",
     "exception": false,
     "start_time": "2022-11-22T21:16:40.393032",
     "status": "completed"
    },
    "tags": []
   },
   "source": [
    "# Calculating Outliers After transforming"
   ]
  },
  {
   "cell_type": "code",
   "execution_count": 22,
   "id": "94b96b45",
   "metadata": {
    "execution": {
     "iopub.execute_input": "2022-11-22T21:16:40.454477Z",
     "iopub.status.busy": "2022-11-22T21:16:40.454083Z",
     "iopub.status.idle": "2022-11-22T21:16:40.489169Z",
     "shell.execute_reply": "2022-11-22T21:16:40.487657Z"
    },
    "papermill": {
     "duration": 0.058972,
     "end_time": "2022-11-22T21:16:40.491722",
     "exception": false,
     "start_time": "2022-11-22T21:16:40.432750",
     "status": "completed"
    },
    "tags": []
   },
   "outputs": [
    {
     "name": "stdout",
     "output_type": "stream",
     "text": [
      "Column CRIM outliers = 0.00%\n",
      "Column ZN outliers = 0.00%\n",
      "Column INDUS outliers = 0.00%\n",
      "Column CHAS outliers = 100.00%\n",
      "Column NOX outliers = 0.00%\n",
      "Column RM outliers = 5.45%\n",
      "Column AGE outliers = 0.00%\n",
      "Column DIS outliers = 0.00%\n",
      "Column RAD outliers = 0.00%\n",
      "Column TAX outliers = 0.00%\n",
      "Column PTRATIO outliers = 0.00%\n",
      "Column B outliers = 12.13%\n",
      "Column LSTAT outliers = 0.00%\n"
     ]
    }
   ],
   "source": [
    "for k, v in yeo_data.items():\n",
    "        q1 = v.quantile(0.25)\n",
    "        q3 = v.quantile(0.75)\n",
    "        irq = q3 - q1\n",
    "        v_col = v[(v <= q1 - 1.5 * irq) | (v >= q3 + 1.5 * irq)]\n",
    "        perc = np.shape(v_col)[0] * 100.0 / np.shape(X_train)[0]\n",
    "        print(\"Column %s outliers = %.2f%%\" % (k, perc))"
   ]
  },
  {
   "cell_type": "code",
   "execution_count": 23,
   "id": "325d241f",
   "metadata": {
    "execution": {
     "iopub.execute_input": "2022-11-22T21:16:40.534484Z",
     "iopub.status.busy": "2022-11-22T21:16:40.534077Z",
     "iopub.status.idle": "2022-11-22T21:16:44.365128Z",
     "shell.execute_reply": "2022-11-22T21:16:44.363794Z"
    },
    "papermill": {
     "duration": 3.855266,
     "end_time": "2022-11-22T21:16:44.367613",
     "exception": false,
     "start_time": "2022-11-22T21:16:40.512347",
     "status": "completed"
    },
    "tags": []
   },
   "outputs": [
    {
     "data": {
      "image/png": "[encoded data removed]",
      "text/plain": [
       "<Figure size 1080x108 with 2 Axes>"
      ]
     },
     "metadata": {
      "needs_background": "light"
     },
     "output_type": "display_data"
    },
    {
     "data": {
      "image/png": "[encoded data removed]",
      "text/plain": [
       "<Figure size 1080x108 with 2 Axes>"
      ]
     },
     "metadata": {
      "needs_background": "light"
     },
     "output_type": "display_data"
    },
    {
     "data": {
      "image/png": "[encoded data removed]",
      "text/plain": [
       "<Figure size 1080x108 with 2 Axes>"
      ]
     },
     "metadata": {
      "needs_background": "light"
     },
     "output_type": "display_data"
    },
    {
     "data": {
      "image/png": "[encoded data removed]",
      "text/plain": [
       "<Figure size 1080x108 with 2 Axes>"
      ]
     },
     "metadata": {
      "needs_background": "light"
     },
     "output_type": "display_data"
    },
    {
     "data": {
      "image/png": "[encoded data removed]",
      "text/plain": [
       "<Figure size 1080x108 with 2 Axes>"
      ]
     },
     "metadata": {
      "needs_background": "light"
     },
     "output_type": "display_data"
    },
    {
     "data": {
      "image/png": "[encoded data removed]",
      "text/plain": [
       "<Figure size 1080x108 with 2 Axes>"
      ]
     },
     "metadata": {
      "needs_background": "light"
     },
     "output_type": "display_data"
    },
    {
     "data": {
      "image/png": "[encoded data removed]",
      "text/plain": [
       "<Figure size 1080x108 with 2 Axes>"
      ]
     },
     "metadata": {
      "needs_background": "light"
     },
     "output_type": "display_data"
    },
    {
     "data": {
      "image/png": "[encoded data removed]",
      "text/plain": [
       "<Figure size 1080x108 with 2 Axes>"
      ]
     },
     "metadata": {
      "needs_background": "light"
     },
     "output_type": "display_data"
    },
    {
     "data": {
      "image/png": "[encoded data removed]",
      "text/plain": [
       "<Figure size 1080x108 with 2 Axes>"
      ]
     },
     "metadata": {
      "needs_background": "light"
     },
     "output_type": "display_data"
    },
    {
     "data": {
      "image/png": "[encoded data removed]",
      "text/plain": [
       "<Figure size 1080x108 with 2 Axes>"
      ]
     },
     "metadata": {
      "needs_background": "light"
     },
     "output_type": "display_data"
    },
    {
     "data": {
      "image/png": "[encoded data removed]",
      "text/plain": [
       "<Figure size 1080x108 with 2 Axes>"
      ]
     },
     "metadata": {
      "needs_background": "light"
     },
     "output_type": "display_data"
    },
    {
     "data": {
      "image/png": "[encoded data removed]",
      "text/plain": [
       "<Figure size 1080x108 with 2 Axes>"
      ]
     },
     "metadata": {
      "needs_background": "light"
     },
     "output_type": "display_data"
    },
    {
     "data": {
      "image/png": "[encoded data removed]",
      "text/plain": [
       "<Figure size 1080x108 with 2 Axes>"
      ]
     },
     "metadata": {
      "needs_background": "light"
     },
     "output_type": "display_data"
    }
   ],
   "source": [
    "for col in yeo_data.columns:\n",
    "    fig,ax = plt.subplots(1,2,figsize=(15,1.5))\n",
    "    if len(np.unique(yeo_data[col]))<10:\n",
    "        sns.countplot(yeo_data[col],ax=ax[0])\n",
    "    else:\n",
    "        sns.distplot(yeo_data[col],bins=50 if len(np.unique(yeo_data[col]))>50 else None,ax=ax[0])\n",
    "        \n",
    "    sns.boxplot(yeo_data[col],ax=ax[1])\n",
    "    plt.suptitle(col,fontsize=20,y=1.2)\n",
    "    plt.show()"
   ]
  },
  {
   "cell_type": "markdown",
   "id": "f944d885",
   "metadata": {
    "papermill": {
     "duration": 0.023409,
     "end_time": "2022-11-22T21:16:44.415443",
     "exception": false,
     "start_time": "2022-11-22T21:16:44.392034",
     "status": "completed"
    },
    "tags": []
   },
   "source": [
    "# Create Pipeline"
   ]
  },
  {
   "cell_type": "code",
   "execution_count": 24,
   "id": "a8bee81b",
   "metadata": {
    "execution": {
     "iopub.execute_input": "2022-11-22T21:16:44.467945Z",
     "iopub.status.busy": "2022-11-22T21:16:44.467181Z",
     "iopub.status.idle": "2022-11-22T21:16:44.524178Z",
     "shell.execute_reply": "2022-11-22T21:16:44.523061Z"
    },
    "papermill": {
     "duration": 0.087808,
     "end_time": "2022-11-22T21:16:44.526799",
     "exception": false,
     "start_time": "2022-11-22T21:16:44.438991",
     "status": "completed"
    },
    "tags": []
   },
   "outputs": [
    {
     "data": {
      "text/html": [
       "<div>\n",
       "<style scoped>\n",
       "    .dataframe tbody tr th:only-of-type {\n",
       "        vertical-align: middle;\n",
       "    }\n",
       "\n",
       "    .dataframe tbody tr th {\n",
       "        vertical-align: top;\n",
       "    }\n",
       "\n",
       "    .dataframe thead th {\n",
       "        text-align: right;\n",
       "    }\n",
       "</style>\n",
       "<table border=\"1\" class=\"dataframe\">\n",
       "  <thead>\n",
       "    <tr style=\"text-align: right;\">\n",
       "      <th></th>\n",
       "      <th>CRIM</th>\n",
       "      <th>ZN</th>\n",
       "      <th>INDUS</th>\n",
       "      <th>CHAS</th>\n",
       "      <th>NOX</th>\n",
       "      <th>RM</th>\n",
       "      <th>AGE</th>\n",
       "      <th>DIS</th>\n",
       "      <th>RAD</th>\n",
       "      <th>TAX</th>\n",
       "      <th>PTRATIO</th>\n",
       "      <th>B</th>\n",
       "      <th>LSTAT</th>\n",
       "    </tr>\n",
       "  </thead>\n",
       "  <tbody>\n",
       "    <tr>\n",
       "      <th>0</th>\n",
       "      <td>-0.449854</td>\n",
       "      <td>-0.607604</td>\n",
       "      <td>0.064370</td>\n",
       "      <td>-0.272888</td>\n",
       "      <td>0.101129</td>\n",
       "      <td>-0.042598</td>\n",
       "      <td>0.517215</td>\n",
       "      <td>0.019555</td>\n",
       "      <td>-0.489909</td>\n",
       "      <td>-0.422527</td>\n",
       "      <td>-0.147212</td>\n",
       "      <td>0.507657</td>\n",
       "      <td>-0.499091</td>\n",
       "    </tr>\n",
       "    <tr>\n",
       "      <th>1</th>\n",
       "      <td>1.599773</td>\n",
       "      <td>-0.607604</td>\n",
       "      <td>1.028956</td>\n",
       "      <td>-0.272888</td>\n",
       "      <td>1.459923</td>\n",
       "      <td>-0.621733</td>\n",
       "      <td>1.063926</td>\n",
       "      <td>-1.011882</td>\n",
       "      <td>1.459417</td>\n",
       "      <td>1.379505</td>\n",
       "      <td>0.903118</td>\n",
       "      <td>-2.532146</td>\n",
       "      <td>1.449365</td>\n",
       "    </tr>\n",
       "    <tr>\n",
       "      <th>2</th>\n",
       "      <td>1.517824</td>\n",
       "      <td>-0.607604</td>\n",
       "      <td>1.028956</td>\n",
       "      <td>3.664502</td>\n",
       "      <td>1.605052</td>\n",
       "      <td>-0.117608</td>\n",
       "      <td>1.096258</td>\n",
       "      <td>-0.798729</td>\n",
       "      <td>1.459417</td>\n",
       "      <td>1.379505</td>\n",
       "      <td>0.903118</td>\n",
       "      <td>-0.073629</td>\n",
       "      <td>0.887257</td>\n",
       "    </tr>\n",
       "    <tr>\n",
       "      <th>3</th>\n",
       "      <td>-0.797184</td>\n",
       "      <td>-0.607604</td>\n",
       "      <td>-0.593456</td>\n",
       "      <td>-0.272888</td>\n",
       "      <td>-0.352121</td>\n",
       "      <td>-0.640270</td>\n",
       "      <td>-0.284766</td>\n",
       "      <td>0.085127</td>\n",
       "      <td>-0.207424</td>\n",
       "      <td>-0.675499</td>\n",
       "      <td>0.282820</td>\n",
       "      <td>-0.079477</td>\n",
       "      <td>0.116392</td>\n",
       "    </tr>\n",
       "    <tr>\n",
       "      <th>4</th>\n",
       "      <td>0.332808</td>\n",
       "      <td>-0.607604</td>\n",
       "      <td>-0.204996</td>\n",
       "      <td>-0.272888</td>\n",
       "      <td>0.044582</td>\n",
       "      <td>-0.348459</td>\n",
       "      <td>0.752298</td>\n",
       "      <td>0.600916</td>\n",
       "      <td>-0.489909</td>\n",
       "      <td>-0.394390</td>\n",
       "      <td>1.471999</td>\n",
       "      <td>-1.815615</td>\n",
       "      <td>0.853700</td>\n",
       "    </tr>\n",
       "    <tr>\n",
       "      <th>...</th>\n",
       "      <td>...</td>\n",
       "      <td>...</td>\n",
       "      <td>...</td>\n",
       "      <td>...</td>\n",
       "      <td>...</td>\n",
       "      <td>...</td>\n",
       "      <td>...</td>\n",
       "      <td>...</td>\n",
       "      <td>...</td>\n",
       "      <td>...</td>\n",
       "      <td>...</td>\n",
       "      <td>...</td>\n",
       "      <td>...</td>\n",
       "    </tr>\n",
       "    <tr>\n",
       "      <th>399</th>\n",
       "      <td>0.658918</td>\n",
       "      <td>-0.607604</td>\n",
       "      <td>1.170608</td>\n",
       "      <td>3.664502</td>\n",
       "      <td>0.616959</td>\n",
       "      <td>2.706412</td>\n",
       "      <td>0.955308</td>\n",
       "      <td>-0.763496</td>\n",
       "      <td>-0.207424</td>\n",
       "      <td>0.323511</td>\n",
       "      <td>-1.513637</td>\n",
       "      <td>0.314957</td>\n",
       "      <td>-1.783796</td>\n",
       "    </tr>\n",
       "    <tr>\n",
       "      <th>400</th>\n",
       "      <td>-1.004932</td>\n",
       "      <td>1.708228</td>\n",
       "      <td>-1.599516</td>\n",
       "      <td>-0.272888</td>\n",
       "      <td>-1.130478</td>\n",
       "      <td>0.463113</td>\n",
       "      <td>-1.340215</td>\n",
       "      <td>1.695506</td>\n",
       "      <td>-0.489909</td>\n",
       "      <td>-0.664693</td>\n",
       "      <td>-0.774118</td>\n",
       "      <td>0.410980</td>\n",
       "      <td>-0.936486</td>\n",
       "    </tr>\n",
       "    <tr>\n",
       "      <th>401</th>\n",
       "      <td>-0.558035</td>\n",
       "      <td>1.595183</td>\n",
       "      <td>-1.195435</td>\n",
       "      <td>-0.272888</td>\n",
       "      <td>-1.024655</td>\n",
       "      <td>0.701607</td>\n",
       "      <td>-1.264318</td>\n",
       "      <td>0.448508</td>\n",
       "      <td>-0.207424</td>\n",
       "      <td>-1.510876</td>\n",
       "      <td>-1.461639</td>\n",
       "      <td>0.650034</td>\n",
       "      <td>-1.253652</td>\n",
       "    </tr>\n",
       "    <tr>\n",
       "      <th>402</th>\n",
       "      <td>-0.287844</td>\n",
       "      <td>-0.607604</td>\n",
       "      <td>0.064370</td>\n",
       "      <td>-0.272888</td>\n",
       "      <td>0.101129</td>\n",
       "      <td>0.370799</td>\n",
       "      <td>0.693140</td>\n",
       "      <td>0.206353</td>\n",
       "      <td>-0.489909</td>\n",
       "      <td>-0.422527</td>\n",
       "      <td>-0.147212</td>\n",
       "      <td>0.600432</td>\n",
       "      <td>-0.234166</td>\n",
       "    </tr>\n",
       "    <tr>\n",
       "      <th>403</th>\n",
       "      <td>-0.967380</td>\n",
       "      <td>1.667533</td>\n",
       "      <td>-1.891200</td>\n",
       "      <td>-0.272888</td>\n",
       "      <td>-1.212871</td>\n",
       "      <td>0.871167</td>\n",
       "      <td>-1.193189</td>\n",
       "      <td>1.780439</td>\n",
       "      <td>-2.232479</td>\n",
       "      <td>-0.151366</td>\n",
       "      <td>0.580927</td>\n",
       "      <td>0.368671</td>\n",
       "      <td>-0.962319</td>\n",
       "    </tr>\n",
       "  </tbody>\n",
       "</table>\n",
       "<p>404 rows × 13 columns</p>\n",
       "</div>"
      ],
      "text/plain": [
       "         CRIM        ZN     INDUS      CHAS       NOX        RM       AGE  \\\n",
       "0   -0.449854 -0.607604  0.064370 -0.272888  0.101129 -0.042598  0.517215   \n",
       "1    1.599773 -0.607604  1.028956 -0.272888  1.459923 -0.621733  1.063926   \n",
       "2    1.517824 -0.607604  1.028956  3.664502  1.605052 -0.117608  1.096258   \n",
       "3   -0.797184 -0.607604 -0.593456 -0.272888 -0.352121 -0.640270 -0.284766   \n",
       "4    0.332808 -0.607604 -0.204996 -0.272888  0.044582 -0.348459  0.752298   \n",
       "..        ...       ...       ...       ...       ...       ...       ...   \n",
       "399  0.658918 -0.607604  1.170608  3.664502  0.616959  2.706412  0.955308   \n",
       "400 -1.004932  1.708228 -1.599516 -0.272888 -1.130478  0.463113 -1.340215   \n",
       "401 -0.558035  1.595183 -1.195435 -0.272888 -1.024655  0.701607 -1.264318   \n",
       "402 -0.287844 -0.607604  0.064370 -0.272888  0.101129  0.370799  0.693140   \n",
       "403 -0.967380  1.667533 -1.891200 -0.272888 -1.212871  0.871167 -1.193189   \n",
       "\n",
       "          DIS       RAD       TAX   PTRATIO         B     LSTAT  \n",
       "0    0.019555 -0.489909 -0.422527 -0.147212  0.507657 -0.499091  \n",
       "1   -1.011882  1.459417  1.379505  0.903118 -2.532146  1.449365  \n",
       "2   -0.798729  1.459417  1.379505  0.903118 -0.073629  0.887257  \n",
       "3    0.085127 -0.207424 -0.675499  0.282820 -0.079477  0.116392  \n",
       "4    0.600916 -0.489909 -0.394390  1.471999 -1.815615  0.853700  \n",
       "..        ...       ...       ...       ...       ...       ...  \n",
       "399 -0.763496 -0.207424  0.323511 -1.513637  0.314957 -1.783796  \n",
       "400  1.695506 -0.489909 -0.664693 -0.774118  0.410980 -0.936486  \n",
       "401  0.448508 -0.207424 -1.510876 -1.461639  0.650034 -1.253652  \n",
       "402  0.206353 -0.489909 -0.422527 -0.147212  0.600432 -0.234166  \n",
       "403  1.780439 -2.232479 -0.151366  0.580927  0.368671 -0.962319  \n",
       "\n",
       "[404 rows x 13 columns]"
      ]
     },
     "execution_count": 24,
     "metadata": {},
     "output_type": "execute_result"
    }
   ],
   "source": [
    "my_pipeline= Pipeline([\n",
    "    ('imputer',SimpleImputer(strategy=\"median\")),\n",
    "    ('yeojohnTr',PowerTransformer(standardize=True)),\n",
    "#     ('std_scales',StandardScaler()),\n",
    "])\n",
    "data =my_pipeline.fit_transform(X_train)\n",
    "data = pd.DataFrame(data=data , columns=X_train.columns)\n",
    "X_train=data.copy()\n",
    "X_train"
   ]
  },
  {
   "cell_type": "markdown",
   "id": "2a07b4f9",
   "metadata": {
    "papermill": {
     "duration": 0.024384,
     "end_time": "2022-11-22T21:16:44.575977",
     "exception": false,
     "start_time": "2022-11-22T21:16:44.551593",
     "status": "completed"
    },
    "tags": []
   },
   "source": [
    "# **Modeling**"
   ]
  },
  {
   "cell_type": "code",
   "execution_count": 25,
   "id": "56575fcb",
   "metadata": {
    "execution": {
     "iopub.execute_input": "2022-11-22T21:16:44.626682Z",
     "iopub.status.busy": "2022-11-22T21:16:44.625942Z",
     "iopub.status.idle": "2022-11-22T21:16:44.630756Z",
     "shell.execute_reply": "2022-11-22T21:16:44.629981Z"
    },
    "papermill": {
     "duration": 0.032313,
     "end_time": "2022-11-22T21:16:44.632794",
     "exception": false,
     "start_time": "2022-11-22T21:16:44.600481",
     "status": "completed"
    },
    "tags": []
   },
   "outputs": [],
   "source": [
    "scores_map={}\n",
    "scores_map = pd.DataFrame(scores_map)\n",
    "# scores_map"
   ]
  },
  {
   "cell_type": "markdown",
   "id": "13005fe7",
   "metadata": {
    "papermill": {
     "duration": 0.023831,
     "end_time": "2022-11-22T21:16:44.680847",
     "exception": false,
     "start_time": "2022-11-22T21:16:44.657016",
     "status": "completed"
    },
    "tags": []
   },
   "source": [
    "# Analysis on verious type of model"
   ]
  },
  {
   "cell_type": "code",
   "execution_count": 26,
   "id": "41b62619",
   "metadata": {
    "execution": {
     "iopub.execute_input": "2022-11-22T21:16:44.731582Z",
     "iopub.status.busy": "2022-11-22T21:16:44.730877Z",
     "iopub.status.idle": "2022-11-22T21:17:10.181570Z",
     "shell.execute_reply": "2022-11-22T21:17:10.179143Z"
    },
    "papermill": {
     "duration": 25.48011,
     "end_time": "2022-11-22T21:17:10.185033",
     "exception": false,
     "start_time": "2022-11-22T21:16:44.704923",
     "status": "completed"
    },
    "tags": []
   },
   "outputs": [
    {
     "name": "stdout",
     "output_type": "stream",
     "text": [
      "LinearRegression: -22.434288 (8.928922)\n",
      "LASSO: -29.469311 (13.252487)\n",
      "ElasticNet: -31.747447 (15.622990)\n",
      "GradientBoostingRegressor: -8.818334 (4.170905)\n",
      "RandomForestRegressor: -10.424289 (5.692682)\n",
      "DecisionTreeRegressor: -20.238946 (13.699997)\n",
      "ExtraTreesRegressor: -10.237141 (5.038630)\n",
      "XGBRegressor: -8.666562 (3.598404)\n",
      "AdaBoostRegressor: -13.841808 (5.643176)\n",
      "CatBoostRegressor: -8.539495 (3.673199)\n",
      "SVR: -31.682536 (18.051932)\n",
      "KNeighborsRegressor: -23.741921 (11.902842)\n"
     ]
    }
   ],
   "source": [
    "pipelines = []\n",
    "pipelines.append(('LinearRegression', Pipeline([('LR',LinearRegression())])))\n",
    "pipelines.append(('LASSO', Pipeline([('LASSO', Lasso())])))\n",
    "pipelines.append(('ElasticNet', Pipeline([('EN', ElasticNet())])))\n",
    "pipelines.append(('GradientBoostingRegressor', Pipeline([('GBM', GradientBoostingRegressor())])))\n",
    "pipelines.append(('RandomForestRegressor', Pipeline([('RFR', RandomForestRegressor())])))\n",
    "pipelines.append(('DecisionTreeRegressor', Pipeline([('DTR', DecisionTreeRegressor())])))\n",
    "pipelines.append(('ExtraTreesRegressor', Pipeline([('ETR', ExtraTreesRegressor())])))\n",
    "pipelines.append(('XGBRegressor', Pipeline([('XGBR', XGBRegressor(verbosity=0))])))\n",
    "pipelines.append(('AdaBoostRegressor', Pipeline([('AdBR', AdaBoostRegressor())])))\n",
    "pipelines.append(('CatBoostRegressor', Pipeline([('CBR', CatBoostRegressor(verbose=0))])))\n",
    "pipelines.append(('SVR', Pipeline([('SVR', SVR())])))\n",
    "pipelines.append(('KNeighborsRegressor', Pipeline([('KNR', KNeighborsRegressor())])))\n",
    "results = []\n",
    "names = []\n",
    "for name, model in pipelines:\n",
    "    kfold = KFold(n_splits=10)\n",
    "    cv_results = cross_val_score(model, X_train, Y_train, cv=kfold, scoring='neg_mean_squared_error')\n",
    "    results.append(cv_results)\n",
    "    names.append(name)\n",
    "    msg = \"%s: %f (%f)\" % (name, cv_results.mean(), cv_results.std())\n",
    "    print(msg)"
   ]
  },
  {
   "cell_type": "code",
   "execution_count": 27,
   "id": "5b59b2c6",
   "metadata": {
    "execution": {
     "iopub.execute_input": "2022-11-22T21:17:10.236950Z",
     "iopub.status.busy": "2022-11-22T21:17:10.236510Z",
     "iopub.status.idle": "2022-11-22T21:17:10.242105Z",
     "shell.execute_reply": "2022-11-22T21:17:10.240833Z"
    },
    "papermill": {
     "duration": 0.034031,
     "end_time": "2022-11-22T21:17:10.244541",
     "exception": false,
     "start_time": "2022-11-22T21:17:10.210510",
     "status": "completed"
    },
    "tags": []
   },
   "outputs": [],
   "source": [
    "# model=DecisionTreeRegressor()\n",
    "# model=RandomForestRegressor()\n",
    "# model=LinearRegression()\n",
    "# model=SVR()\n",
    "# model=ExtraTreesRegressor()\n",
    "# model=XGBRegressor(verbosity=0)\n",
    "# model =KNeighborsRegressor()\n",
    "# model=GradientBoostingRegressor()\n",
    "# model=AdaBoostRegressor()\n",
    "# model =  CatBoostRegressor(verbose=0)\n",
    "# model.fit(X_train, Y_train)\n",
    "# scores = cross_val_score(model, X_train, Y_train, cv=10, scoring='neg_mean_squared_error')\n",
    "# rmse_scores=np.sqrt(-scores)\n",
    "# scores_map['CBR'] = rmse_scores\n",
    "# print('RMSE \\n Mean:{:.3f}; Standard Deviation: {:.3f}'.format(rmse_scores.mean(),rmse_scores.std()))"
   ]
  },
  {
   "cell_type": "code",
   "execution_count": 28,
   "id": "6a5c4583",
   "metadata": {
    "execution": {
     "iopub.execute_input": "2022-11-22T21:17:10.294951Z",
     "iopub.status.busy": "2022-11-22T21:17:10.294532Z",
     "iopub.status.idle": "2022-11-22T21:17:10.301228Z",
     "shell.execute_reply": "2022-11-22T21:17:10.300074Z"
    },
    "papermill": {
     "duration": 0.034607,
     "end_time": "2022-11-22T21:17:10.303568",
     "exception": false,
     "start_time": "2022-11-22T21:17:10.268961",
     "status": "completed"
    },
    "tags": []
   },
   "outputs": [],
   "source": [
    "X_test=test_dataset.drop(\"MEDV\",axis=1)\n",
    "Y_test=test_dataset[\"MEDV\"].copy()\n",
    "# X_test_prepared=my_pipeline.transform(X_test)\n",
    "# X_test=pd.DataFrame(data=X_test_prepared , columns=X_test.columns)"
   ]
  },
  {
   "cell_type": "code",
   "execution_count": 29,
   "id": "18d9d458",
   "metadata": {
    "execution": {
     "iopub.execute_input": "2022-11-22T21:17:10.355728Z",
     "iopub.status.busy": "2022-11-22T21:17:10.355318Z",
     "iopub.status.idle": "2022-11-22T21:17:10.360692Z",
     "shell.execute_reply": "2022-11-22T21:17:10.359256Z"
    },
    "papermill": {
     "duration": 0.034528,
     "end_time": "2022-11-22T21:17:10.363412",
     "exception": false,
     "start_time": "2022-11-22T21:17:10.328884",
     "status": "completed"
    },
    "tags": []
   },
   "outputs": [],
   "source": [
    "## Now test the model on test data\n",
    "\n",
    "# X_test_prepared=my_pipeline.transform(X_test)\n",
    "# final_predictions= model.predict(X_test_prepared)\n",
    "# final_predictions= model.predict(X_test)\n",
    "# final_mse=mean_squared_error(Y_test,final_predictions)\n",
    "# final_rmse=np.sqrt(final_mse)\n",
    "# print(final_rmse)"
   ]
  },
  {
   "cell_type": "code",
   "execution_count": 30,
   "id": "a5e9a378",
   "metadata": {
    "execution": {
     "iopub.execute_input": "2022-11-22T21:17:10.416082Z",
     "iopub.status.busy": "2022-11-22T21:17:10.415205Z",
     "iopub.status.idle": "2022-11-22T21:17:10.420268Z",
     "shell.execute_reply": "2022-11-22T21:17:10.419178Z"
    },
    "papermill": {
     "duration": 0.033357,
     "end_time": "2022-11-22T21:17:10.422675",
     "exception": false,
     "start_time": "2022-11-22T21:17:10.389318",
     "status": "completed"
    },
    "tags": []
   },
   "outputs": [],
   "source": [
    "# print(\"Mean:\\n\",scores_map.mean())\n",
    "# print(\"\\nStandard deviation: \\n\",scores_map.std())"
   ]
  },
  {
   "cell_type": "markdown",
   "id": "3665f8c6",
   "metadata": {
    "papermill": {
     "duration": 0.024684,
     "end_time": "2022-11-22T21:17:10.471840",
     "exception": false,
     "start_time": "2022-11-22T21:17:10.447156",
     "status": "completed"
    },
    "tags": []
   },
   "source": [
    "# **After testing Top 2 selected model are**\n",
    "**1. CatBoost Regressor**\n",
    "\n",
    "**2. Gradient Boosting Regressor**"
   ]
  },
  {
   "cell_type": "markdown",
   "id": "d19fcf32",
   "metadata": {
    "papermill": {
     "duration": 0.024174,
     "end_time": "2022-11-22T21:17:10.521210",
     "exception": false,
     "start_time": "2022-11-22T21:17:10.497036",
     "status": "completed"
    },
    "tags": []
   },
   "source": [
    "# **Create Model**"
   ]
  },
  {
   "cell_type": "markdown",
   "id": "378db512",
   "metadata": {
    "papermill": {
     "duration": 0.024297,
     "end_time": "2022-11-22T21:17:10.570700",
     "exception": false,
     "start_time": "2022-11-22T21:17:10.546403",
     "status": "completed"
    },
    "tags": []
   },
   "source": [
    "# Gradient Boosting"
   ]
  },
  {
   "cell_type": "code",
   "execution_count": 31,
   "id": "064cbec8",
   "metadata": {
    "execution": {
     "iopub.execute_input": "2022-11-22T21:17:10.623778Z",
     "iopub.status.busy": "2022-11-22T21:17:10.623350Z",
     "iopub.status.idle": "2022-11-22T21:17:10.630703Z",
     "shell.execute_reply": "2022-11-22T21:17:10.629049Z"
    },
    "papermill": {
     "duration": 0.037658,
     "end_time": "2022-11-22T21:17:10.633244",
     "exception": false,
     "start_time": "2022-11-22T21:17:10.595586",
     "status": "completed"
    },
    "tags": []
   },
   "outputs": [],
   "source": [
    "# gbr = GradientBoostingRegressor(random_state=0)\n",
    "# param_grid={'n_estimators':[50,100,150, 200], 'learning_rate': [0.5,0.1,0.05,0.02,0.001]\n",
    "#             , 'max_depth':[2, 3,4,5,6,7,8], 'min_samples_leaf':[3,5,9,11,14,16]\n",
    "#             ,'min_samples_split':[2,4,6,8,10], 'alpha':[0.05,0.1,0.3,0.5]}\n",
    "# # grid = GridSearchCV(gbr, cv=10, param_grid=param_grid, scoring='neg_mean_squared_error')\n",
    "# grid = RandomizedSearchCV(gbr, cv=10, param_distributions=param_grid, scoring='neg_mean_squared_error')\n",
    "# grid.fit(X_train, Y_train)\n",
    "# print(\"Best params :\", grid.best_params_)\n",
    "# print(\"Best Score :{:.3f}\".format(grid.best_score_))"
   ]
  },
  {
   "cell_type": "code",
   "execution_count": 32,
   "id": "5c56ef2a",
   "metadata": {
    "execution": {
     "iopub.execute_input": "2022-11-22T21:17:10.684837Z",
     "iopub.status.busy": "2022-11-22T21:17:10.684374Z",
     "iopub.status.idle": "2022-11-22T21:17:12.996204Z",
     "shell.execute_reply": "2022-11-22T21:17:12.994971Z"
    },
    "papermill": {
     "duration": 2.340967,
     "end_time": "2022-11-22T21:17:12.999167",
     "exception": false,
     "start_time": "2022-11-22T21:17:10.658200",
     "status": "completed"
    },
    "tags": []
   },
   "outputs": [
    {
     "name": "stdout",
     "output_type": "stream",
     "text": [
      "Gradient Boosting R2 score:  0.9016326493598762\n",
      "Gradient Boosting RMSE \n",
      " Mean:2.891; Standard Deviation: 0.647\n"
     ]
    }
   ],
   "source": [
    "# gbr = GradientBoostingRegressor(n_estimators=200,min_samples_split=4,min_samples_leaf=9,max_depth=5,learning_rate=0.02,alpha=0.1,random_state=0)\n",
    "gbr =GradientBoostingRegressor(alpha=0.9, ccp_alpha=0.0, criterion='friedman_mse',\n",
    "                          init=None, learning_rate=0.1, loss='ls', max_depth=3,\n",
    "                          max_features=None, max_leaf_nodes=None,\n",
    "                          min_impurity_decrease=0.0,\n",
    "                          min_samples_leaf=1, min_samples_split=2,\n",
    "                          min_weight_fraction_leaf=0.0, n_estimators=100,\n",
    "                          n_iter_no_change=None, \n",
    "                          random_state=7346, subsample=1.0, tol=0.0001,\n",
    "                          validation_fraction=0.1, verbose=0, warm_start=False)\n",
    "gbr_model=gbr.fit(X_train,Y_train)\n",
    "\n",
    "gbr_scores = cross_val_score(gbr, X_train, Y_train, cv=10, scoring='neg_mean_squared_error')\n",
    "gbr_pred = cross_val_predict(gbr, X_train, Y_train, cv=10)\n",
    "rmse_scores=np.sqrt(-gbr_scores)\n",
    "# scores_map['GBR'] = rmse_scores\n",
    "print(\"Gradient Boosting R2 score: \", r2_score(Y_train, gbr_pred))\n",
    "print('Gradient Boosting RMSE \\n Mean:{:.3f}; Standard Deviation: {:.3f}'.format(rmse_scores.mean(),rmse_scores.std()))"
   ]
  },
  {
   "cell_type": "markdown",
   "id": "41907c91",
   "metadata": {
    "papermill": {
     "duration": 0.024533,
     "end_time": "2022-11-22T21:17:13.048522",
     "exception": false,
     "start_time": "2022-11-22T21:17:13.023989",
     "status": "completed"
    },
    "tags": []
   },
   "source": [
    "# CatBoost Regressor"
   ]
  },
  {
   "cell_type": "code",
   "execution_count": 33,
   "id": "267321bf",
   "metadata": {
    "execution": {
     "iopub.execute_input": "2022-11-22T21:17:13.099928Z",
     "iopub.status.busy": "2022-11-22T21:17:13.099093Z",
     "iopub.status.idle": "2022-11-22T21:17:43.838818Z",
     "shell.execute_reply": "2022-11-22T21:17:43.837745Z"
    },
    "papermill": {
     "duration": 30.794725,
     "end_time": "2022-11-22T21:17:43.867856",
     "exception": false,
     "start_time": "2022-11-22T21:17:13.073131",
     "status": "completed"
    },
    "tags": []
   },
   "outputs": [
    {
     "name": "stdout",
     "output_type": "stream",
     "text": [
      "Gradient Boosting R2 score:  0.9044556912891968\n",
      "Gradient Boosting RMSE \n",
      " Mean:2.849; Standard Deviation: 0.651\n"
     ]
    }
   ],
   "source": [
    "cbr = CatBoostRegressor(verbose=0)\n",
    "cbr_model=cbr.fit(X_train,Y_train)\n",
    "\n",
    "cbr_scores = cross_val_score(cbr, X_train, Y_train, cv=10, scoring='neg_mean_squared_error')\n",
    "cbr_pred = cross_val_predict(cbr, X_train, Y_train, cv=10)\n",
    "rmse_scores=np.sqrt(-cbr_scores)\n",
    "# scores_map['CBR'] = rmse_scores\n",
    "print(\"Gradient Boosting R2 score: \", r2_score(Y_train, cbr_pred))\n",
    "print('Gradient Boosting RMSE \\n Mean:{:.3f}; Standard Deviation: {:.3f}'.format(rmse_scores.mean(),rmse_scores.std()))"
   ]
  },
  {
   "cell_type": "markdown",
   "id": "4297cf34",
   "metadata": {
    "papermill": {
     "duration": 0.025998,
     "end_time": "2022-11-22T21:17:43.920737",
     "exception": false,
     "start_time": "2022-11-22T21:17:43.894739",
     "status": "completed"
    },
    "tags": []
   },
   "source": [
    "# Test all the models on the test data"
   ]
  },
  {
   "cell_type": "code",
   "execution_count": 34,
   "id": "b3e74faf",
   "metadata": {
    "execution": {
     "iopub.execute_input": "2022-11-22T21:17:43.975042Z",
     "iopub.status.busy": "2022-11-22T21:17:43.974018Z",
     "iopub.status.idle": "2022-11-22T21:17:43.984575Z",
     "shell.execute_reply": "2022-11-22T21:17:43.983462Z"
    },
    "papermill": {
     "duration": 0.041067,
     "end_time": "2022-11-22T21:17:43.987608",
     "exception": false,
     "start_time": "2022-11-22T21:17:43.946541",
     "status": "completed"
    },
    "tags": []
   },
   "outputs": [],
   "source": [
    "X_test=test_dataset.drop(\"MEDV\",axis=1)\n",
    "Y_test=test_dataset[\"MEDV\"].copy()\n",
    "X_test_prepared=my_pipeline.transform(X_test)\n",
    "X_test=pd.DataFrame(data=X_test_prepared , columns=X_test.columns)\n",
    "# X_test.head()"
   ]
  },
  {
   "cell_type": "code",
   "execution_count": 35,
   "id": "38754162",
   "metadata": {
    "execution": {
     "iopub.execute_input": "2022-11-22T21:17:44.042394Z",
     "iopub.status.busy": "2022-11-22T21:17:44.041669Z",
     "iopub.status.idle": "2022-11-22T21:17:44.052198Z",
     "shell.execute_reply": "2022-11-22T21:17:44.050827Z"
    },
    "papermill": {
     "duration": 0.040757,
     "end_time": "2022-11-22T21:17:44.054734",
     "exception": false,
     "start_time": "2022-11-22T21:17:44.013977",
     "status": "completed"
    },
    "tags": []
   },
   "outputs": [
    {
     "name": "stdout",
     "output_type": "stream",
     "text": [
      "2.9712432470355012\n"
     ]
    }
   ],
   "source": [
    "##Gradient Boosting\n",
    "gbr_final_pred=gbr_model.predict(X_test)\n",
    "gbr_final_mse=mean_squared_error(Y_test,gbr_final_pred)\n",
    "gbr_final_rmse=np.sqrt(gbr_final_mse)\n",
    "print(gbr_final_rmse)"
   ]
  },
  {
   "cell_type": "code",
   "execution_count": 36,
   "id": "2706f3a4",
   "metadata": {
    "execution": {
     "iopub.execute_input": "2022-11-22T21:17:44.110838Z",
     "iopub.status.busy": "2022-11-22T21:17:44.110370Z",
     "iopub.status.idle": "2022-11-22T21:17:44.120620Z",
     "shell.execute_reply": "2022-11-22T21:17:44.119575Z"
    },
    "papermill": {
     "duration": 0.040431,
     "end_time": "2022-11-22T21:17:44.122970",
     "exception": false,
     "start_time": "2022-11-22T21:17:44.082539",
     "status": "completed"
    },
    "tags": []
   },
   "outputs": [
    {
     "name": "stdout",
     "output_type": "stream",
     "text": [
      "2.7106039110014417\n"
     ]
    }
   ],
   "source": [
    "## CatBoost Regressor\n",
    "cbr_final_pred=cbr_model.predict(X_test)\n",
    "cbr_final_mse=mean_squared_error(Y_test,cbr_final_pred)\n",
    "cbr_final_rmse=np.sqrt(cbr_final_mse)\n",
    "print(cbr_final_rmse)"
   ]
  },
  {
   "cell_type": "markdown",
   "id": "b8dab466",
   "metadata": {
    "papermill": {
     "duration": 0.025149,
     "end_time": "2022-11-22T21:17:44.174273",
     "exception": false,
     "start_time": "2022-11-22T21:17:44.149124",
     "status": "completed"
    },
    "tags": []
   },
   "source": [
    "# **Save the model**"
   ]
  },
  {
   "cell_type": "code",
   "execution_count": 37,
   "id": "5a08b607",
   "metadata": {
    "execution": {
     "iopub.execute_input": "2022-11-22T21:17:44.227656Z",
     "iopub.status.busy": "2022-11-22T21:17:44.226813Z",
     "iopub.status.idle": "2022-11-22T21:17:44.232380Z",
     "shell.execute_reply": "2022-11-22T21:17:44.231029Z"
    },
    "papermill": {
     "duration": 0.034914,
     "end_time": "2022-11-22T21:17:44.234710",
     "exception": false,
     "start_time": "2022-11-22T21:17:44.199796",
     "status": "completed"
    },
    "tags": []
   },
   "outputs": [],
   "source": [
    "import pickle"
   ]
  },
  {
   "cell_type": "code",
   "execution_count": 38,
   "id": "3ed90403",
   "metadata": {
    "execution": {
     "iopub.execute_input": "2022-11-22T21:17:44.286712Z",
     "iopub.status.busy": "2022-11-22T21:17:44.286265Z",
     "iopub.status.idle": "2022-11-22T21:17:44.301636Z",
     "shell.execute_reply": "2022-11-22T21:17:44.300264Z"
    },
    "papermill": {
     "duration": 0.044634,
     "end_time": "2022-11-22T21:17:44.304524",
     "exception": false,
     "start_time": "2022-11-22T21:17:44.259890",
     "status": "completed"
    },
    "tags": []
   },
   "outputs": [],
   "source": [
    "## Save the model\n",
    "with open('final_model_gbr', 'wb') as files:\n",
    "    pickle.dump(gbr_model, files)\n",
    "with open('final_model_catboost', 'wb') as files:\n",
    "    pickle.dump(cbr_model, files)"
   ]
  },
  {
   "cell_type": "code",
   "execution_count": 39,
   "id": "c6d2496e",
   "metadata": {
    "execution": {
     "iopub.execute_input": "2022-11-22T21:17:44.358527Z",
     "iopub.status.busy": "2022-11-22T21:17:44.358111Z",
     "iopub.status.idle": "2022-11-22T21:17:44.369040Z",
     "shell.execute_reply": "2022-11-22T21:17:44.367816Z"
    },
    "papermill": {
     "duration": 0.041522,
     "end_time": "2022-11-22T21:17:44.371891",
     "exception": false,
     "start_time": "2022-11-22T21:17:44.330369",
     "status": "completed"
    },
    "tags": []
   },
   "outputs": [],
   "source": [
    "## Load the model\n",
    "with open('final_model_gbr' , 'rb') as f:\n",
    "    lr = pickle.load(f)"
   ]
  },
  {
   "cell_type": "code",
   "execution_count": null,
   "id": "f5c80219",
   "metadata": {
    "papermill": {
     "duration": 0.024745,
     "end_time": "2022-11-22T21:17:44.421982",
     "exception": false,
     "start_time": "2022-11-22T21:17:44.397237",
     "status": "completed"
    },
    "tags": []
   },
   "outputs": [],
   "source": []
  }
 ],
 "metadata": {
  "kernelspec": {
   "display_name": "Python 3",
   "language": "python",
   "name": "python3"
  },
  "language_info": {
   "codemirror_mode": {
    "name": "ipython",
    "version": 3
   },
   "file_extension": ".py",
   "mimetype": "text/x-python",
   "name": "python",
   "nbconvert_exporter": "python",
   "pygments_lexer": "ipython3",
   "version": "3.7.12"
  },
  "papermill": {
   "default_parameters": {},
   "duration": 82.970057,
   "end_time": "2022-11-22T21:17:45.271287",
   "environment_variables": {},
   "exception": null,
   "input_path": "__notebook__.ipynb",
   "output_path": "__notebook__.ipynb",
   "parameters": {},
   "start_time": "2022-11-22T21:16:22.301230",
   "version": "2.3.4"
  }
 },
 "nbformat": 4,
 "nbformat_minor": 5
}
